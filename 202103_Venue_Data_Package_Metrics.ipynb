{
  "nbformat": 4,
  "nbformat_minor": 0,
  "metadata": {
    "colab": {
      "name": "202103 - Venue Data Package Metrics",
      "provenance": [],
      "collapsed_sections": [],
      "toc_visible": true,
      "include_colab_link": true
    },
    "kernelspec": {
      "display_name": "Python 3",
      "name": "python3"
    }
  },
  "cells": [
    {
      "cell_type": "markdown",
      "metadata": {
        "id": "view-in-github",
        "colab_type": "text"
      },
      "source": [
        "<a href=\"https://colab.research.google.com/github/mathissen/streamlit-ea-app/blob/master/202103_Venue_Data_Package_Metrics.ipynb\" target=\"_parent\"><img src=\"https://colab.research.google.com/assets/colab-badge.svg\" alt=\"Open In Colab\"/></a>"
      ]
    },
    {
      "cell_type": "markdown",
      "metadata": {
        "id": "DyJdAXRUTPU6"
      },
      "source": [
        "# Venue Data Package Metrics\n",
        "\n",
        "This notebook contains definition of the Venue package metrics into the Portal.\n",
        "\n",
        "The following metrics are present:\n",
        "\n",
        "- State Retail Impact by State\n",
        "- Venue Capture Rate\n",
        "- Venue Average Catchment Area Distance \n",
        "- Venue Catchment Area Distance Median\n",
        "- Venue Foot Traffic [Day / Week / Month]\n",
        "- Venue Visit Length Median\n",
        "- Venue Traffic Patterns Day of Week\n",
        "- Venue Traffic Patterns Day of Week Hour\n",
        "\n",
        "\n",
        "---"
      ]
    },
    {
      "cell_type": "markdown",
      "metadata": {
        "id": "_jtF5P-VvlEV"
      },
      "source": [
        "## Setup"
      ]
    },
    {
      "cell_type": "code",
      "metadata": {
        "colab": {
          "base_uri": "https://localhost:8080/"
        },
        "id": "ghzZy6nCM_iE",
        "cellView": "form",
        "outputId": "ceef5b7c-0b15-4350-c914-66e253a6c2bd"
      },
      "source": [
        "# Authenticate\n",
        "PROJECT_ID = \"uc-unacat\" #@param {type: \"string\"}\n",
        "\n",
        "\n",
        "COST_LIMIT_USD =   10#@param {type: \"number\"}\n",
        "\n",
        "LOCATION = \"US\" #@param {type: \"string\"}\n",
        "\n",
        "from google.cloud import bigquery\n",
        "from google.colab import auth\n",
        "\n",
        "from datetime import datetime\n",
        "\n",
        "auth.authenticate_user()\n",
        "client = bigquery.Client(PROJECT_ID)\n",
        "\n",
        "# Cost estimates\n",
        "\n",
        "def MB(bytes):\n",
        "  return float(bytes) / 2**20\n",
        "\n",
        "\n",
        "def GB(bytes):\n",
        "  return float(bytes) / 2**30\n",
        "\n",
        "\n",
        "def TB(bytes):\n",
        "  return float(bytes) / 2**40\n",
        "\n",
        "\n",
        "def USD(bytes):\n",
        "  return (5.00 * TB(max(bytes, 10 * (2 ** 20))))\n",
        "\n",
        "\n",
        "def estimate_query_bytes(query):\n",
        "  \n",
        "  job_config = bigquery.QueryJobConfig()\n",
        "  job_config.dry_run = True\n",
        "  query_job = client.query(\n",
        "      query,\n",
        "      location=LOCATION,\n",
        "      job_config=job_config\n",
        "  )  # API request\n",
        "  \n",
        "  return query_job.total_bytes_processed\n",
        "\n",
        "\n",
        "\n",
        "# Custom bigquery magics that doesn't make dataframe\n",
        "from __future__ import print_function\n",
        "\n",
        "import time\n",
        "from concurrent import futures\n",
        "\n",
        "try:\n",
        "    import IPython\n",
        "    from IPython import display\n",
        "    from IPython.core import magic_arguments\n",
        "except ImportError:  # pragma: NO COVER\n",
        "    raise ImportError('This module can only be loaded in IPython.')\n",
        "\n",
        "import google.auth\n",
        "from google.cloud import bigquery\n",
        "\n",
        "class Context(object):\n",
        "    \"\"\"Storage for objects to be used throughout an IPython notebook session.\n",
        "    A Context object is initialized when the ``magics`` module is imported,\n",
        "    and can be found at ``google.cloud.bigquery.magics.context``.\n",
        "    \"\"\"\n",
        "    def __init__(self):\n",
        "        self._credentials = None\n",
        "        self._project = None\n",
        "\n",
        "    @property\n",
        "    def credentials(self):\n",
        "        \"\"\"google.auth.credentials.Credentials: Credentials to use for queries\n",
        "        performed through IPython magics\n",
        "        Note:\n",
        "            These credentials do not need to be explicitly defined if you are\n",
        "            using Application Default Credentials. If you are not using\n",
        "            Application Default Credentials, manually construct a\n",
        "            :class:`google.auth.credentials.Credentials` object and set it as\n",
        "            the context credentials as demonstrated in the example below. See\n",
        "            `auth docs`_ for more information on obtaining credentials.\n",
        "        Example:\n",
        "            Manually setting the context credentials:\n",
        "            >>> from google.cloud.bigquery import magics\n",
        "            >>> from google.oauth2 import service_account\n",
        "            >>> credentials = (service_account\n",
        "            ...     .Credentials.from_service_account_file(\n",
        "            ...         '/path/to/key.json'))\n",
        "            >>> magics.context.credentials = credentials\n",
        "        .. _auth docs: http://google-auth.readthedocs.io\n",
        "            /en/latest/user-guide.html#obtaining-credentials\n",
        "        \"\"\"\n",
        "        if self._credentials is None:\n",
        "            self._credentials, _ = google.auth.default()\n",
        "        return self._credentials\n",
        "\n",
        "    @credentials.setter\n",
        "    def credentials(self, value):\n",
        "        self._credentials = value\n",
        "\n",
        "    @property\n",
        "    def project(self):\n",
        "        \"\"\"str: Default project to use for queries performed through IPython\n",
        "        magics\n",
        "        Note:\n",
        "            The project does not need to be explicitly defined if you have an\n",
        "            environment default project set. If you do not have a default\n",
        "            project set in your environment, manually assign the project as\n",
        "            demonstrated in the example below.\n",
        "        Example:\n",
        "            Manually setting the context project:\n",
        "            >>> from google.cloud.bigquery import magics\n",
        "            >>> magics.context.project = 'my-project'\n",
        "        \"\"\"\n",
        "        if self._project is None:\n",
        "            _, self._project = google.auth.default()\n",
        "        return self._project\n",
        "\n",
        "    @project.setter\n",
        "    def project(self, value):\n",
        "        self._project = value\n",
        "\n",
        "\n",
        "context = Context()\n",
        "\n",
        "\n",
        "def _run_query(client, query, job_config=None):\n",
        "    \"\"\"Runs a query while printing status updates\n",
        "    Args:\n",
        "        client (google.cloud.bigquery.client.Client):\n",
        "            Client to bundle configuration needed for API requests.\n",
        "        query (str):\n",
        "            SQL query to be executed. Defaults to the standard SQL dialect.\n",
        "            Use the ``job_config`` parameter to change dialects.\n",
        "        job_config (google.cloud.bigquery.job.QueryJobConfig, optional):\n",
        "            Extra configuration options for the job.\n",
        "    Returns:\n",
        "        google.cloud.bigquery.job.QueryJob: the query job created\n",
        "    Example:\n",
        "        >>> client = bigquery.Client()\n",
        "        >>> _run_query(client, \"SELECT 17\")\n",
        "        Executing query with job ID: bf633912-af2c-4780-b568-5d868058632b\n",
        "        Query executing: 1.66s\n",
        "        Query complete after 2.07s\n",
        "        'bf633912-af2c-4780-b568-5d868058632b'\n",
        "    \"\"\"\n",
        "    start_time = time.time()\n",
        "    query_job = client.query(query, job_config=job_config)\n",
        "    print('Executing query with job ID: {}'.format(query_job.job_id))\n",
        "\n",
        "    while True:\n",
        "        print('\\rQuery executing: {:0.2f}s'.format(\n",
        "            time.time() - start_time), end='')\n",
        "        try:\n",
        "            query_job.result(timeout=0.5)\n",
        "            break\n",
        "        except futures.TimeoutError:\n",
        "            continue\n",
        "    print('\\nQuery complete after {:0.2f}s'.format(time.time() - start_time))\n",
        "    return query_job\n",
        "\n",
        "\n",
        "@magic_arguments.magic_arguments()\n",
        "@magic_arguments.argument(\n",
        "    'destination_var',\n",
        "    nargs='?',\n",
        "    help=('If provided, save the output to this variable in addition '\n",
        "          'to displaying it.'))\n",
        "@magic_arguments.argument(\n",
        "    '--project',\n",
        "    type=str,\n",
        "    default=PROJECT_ID,\n",
        "    help=('Project to use for executing this query. Defaults to the context '\n",
        "          'project.'))\n",
        "@magic_arguments.argument(\n",
        "    '--use_legacy_sql',\n",
        "    action='store_true',\n",
        "    default=False,\n",
        "    help=('Sets query to use Legacy SQL instead of Standard SQL. Defaults to '\n",
        "          'Standard SQL if this argument is not used.'))\n",
        "@magic_arguments.argument(\n",
        "    '--no_df',\n",
        "    action='store_true',\n",
        "    default=False,\n",
        "    help=('Sets query to not return result as dataframe'))\n",
        "@magic_arguments.argument(\n",
        "    '--cost_approved',\n",
        "    action='store_true',\n",
        "    default=False,\n",
        "    help=('If set, do not prompt user to confirm execution of expensive queries.'))\n",
        "@magic_arguments.argument(\n",
        "    '--verbose', \n",
        "    action='store_true',\n",
        "    default=False,\n",
        "    help=('If set, print verbose output, including the query job ID and the '\n",
        "          'amount of time for the query to finish. By default, this '\n",
        "          'information will be displayed as the query runs, but will be '\n",
        "          'cleared after the query is finished.'))\n",
        "@magic_arguments.argument(\n",
        "    '--param',\n",
        "    type=str,\n",
        "    default=None,\n",
        "    help=('String value of optional query parameter @param'))\n",
        "def _cell_magic(line, query):\n",
        "    \"\"\"Underlying function for bigquery cell magic\n",
        "    Note:\n",
        "        This function contains the underlying logic for the 'bigquery' cell\n",
        "        magic. This function is not meant to be called directly.\n",
        "    Args:\n",
        "        line (str): \"%%bigquery\" followed by arguments as required\n",
        "        query (str): SQL query to run\n",
        "    Returns:\n",
        "        pandas.DataFrame: the query results.\n",
        "    \"\"\"\n",
        "    args = magic_arguments.parse_argstring(_cell_magic, line)\n",
        "\n",
        "    project = args.project or context.project\n",
        "    client = bigquery.Client(project=project, credentials=context.credentials)\n",
        "    job_config = bigquery.job.QueryJobConfig()\n",
        "\n",
        "    query_params = [\n",
        "        bigquery.ScalarQueryParameter('param', 'STRING', args.param),\n",
        "    ]\n",
        "    \n",
        "    job_config.query_parameters = query_params\n",
        "    job_config.use_legacy_sql = args.use_legacy_sql\n",
        "    \n",
        "    # Check query cost first\n",
        "    if not args.cost_approved:\n",
        "      estimate = estimate_query_bytes(query)\n",
        "      \n",
        "      if USD(estimate) >= COST_LIMIT_USD:\n",
        "        confirm = raw_input(\"Query costs up to ${:.2f}, ok? (y): \".format(USD(estimate)))\n",
        "        if confirm != \"y\":\n",
        "          print(\"Query aborted\")\n",
        "          return None\n",
        "      \n",
        "    query_job = _run_query(client, query, job_config)\n",
        "\n",
        "    if not args.verbose:\n",
        "        display.clear_output()\n",
        "\n",
        "    query_job\n",
        "    \n",
        "    if args.no_df:\n",
        "      print(\"Query successful. Cost ${:.2f}\".format(USD(query_job.total_bytes_processed)))\n",
        "      return None\n",
        "    else:\n",
        "      result = query_job.to_dataframe()\n",
        "      print(\"Query successful. Cost ${:.2f}\".format(USD(query_job.total_bytes_processed)))\n",
        "      if args.destination_var:\n",
        "          IPython.get_ipython().push({args.destination_var: result})\n",
        "      return result\n",
        "    \n",
        "  \n",
        "ip = get_ipython()\n",
        "\n",
        "ip.register_magic_function(_cell_magic, magic_kind='cell', magic_name='bigquery')\n",
        "\n",
        "\n",
        "# Print success message\n",
        "\n",
        "print(\"Ran at\", datetime.now(), \"GMT\")"
      ],
      "execution_count": null,
      "outputs": [
        {
          "output_type": "stream",
          "text": [
            "Ran at 2021-04-29 10:19:27.133161 GMT\n"
          ],
          "name": "stdout"
        }
      ]
    },
    {
      "cell_type": "markdown",
      "metadata": {
        "id": "hO9ZUx-Mevs6"
      },
      "source": [
        "### Install"
      ]
    },
    {
      "cell_type": "code",
      "metadata": {
        "id": "hMZ2PvZuaCeq"
      },
      "source": [
        "%%capture\n",
        "\n",
        "project_id = 'uc-unacat'\n",
        "\n",
        "from google.colab import auth\n",
        "auth.authenticate_user()\n",
        "\n",
        "\n",
        "!gcloud config set project {project_id}\n",
        "\n",
        "!gsutil cp gs://unacatlib/unacatlib-0.0.9-py2.py3-none-any.whl ."
      ],
      "execution_count": null,
      "outputs": []
    },
    {
      "cell_type": "code",
      "metadata": {
        "id": "J248RBsEaUJy"
      },
      "source": [
        "%%capture\n",
        "\n",
        "import sys\n",
        "!{sys.executable} -m pip install --upgrade --force-reinstall unacatlib-0.0.9-py2.py3-none-any.whl;"
      ],
      "execution_count": null,
      "outputs": []
    },
    {
      "cell_type": "code",
      "metadata": {
        "id": "bib3ubDzaetq"
      },
      "source": [
        "token_res = !gcloud auth print-identity-token\n",
        "token = token_res[0]"
      ],
      "execution_count": null,
      "outputs": []
    },
    {
      "cell_type": "code",
      "metadata": {
        "id": "0OYyoTOTR2Ga"
      },
      "source": [
        "import datetime\n",
        "import pprint\n",
        "\n",
        "from unacatlib.client import Client\n",
        "from unacatlib.address_component_builder import AddressComponentBuilder\n",
        "\n",
        "from unacatlib.layer_builder import LayerBuilder\n",
        "from unacatlib.metric_builder import MetricBuilder\n",
        "\n",
        "from unacatlib.unacast.maps.v1 import ComponentKind\n",
        "from unacatlib.unacast.metric.v1 import Cadence, ValueKind, ValueSpec, DimensionSpec\n",
        "from unacatlib.index_job import IndexJob\n",
        "\n"
      ],
      "execution_count": null,
      "outputs": []
    },
    {
      "cell_type": "markdown",
      "metadata": {
        "id": "dv8d9C1TesH-"
      },
      "source": [
        "#### Load catalog"
      ]
    },
    {
      "cell_type": "code",
      "metadata": {
        "id": "Qw7QaW1fYYOr"
      },
      "source": [
        "rwg_client = Client(server_address='dataops-api-server-snr3asztcq-uk.a.run.app', token=token)\n",
        "rwg = rwg_client.catalog(\"rwg\")\n",
        "\n",
        "\n",
        "## Construct a BigQuery client object.\n",
        "#client = bigquery.Client(PROJECT_ID)"
      ],
      "execution_count": null,
      "outputs": []
    },
    {
      "cell_type": "markdown",
      "metadata": {
        "id": "A1P2EqVmt1s_"
      },
      "source": [
        "#### Overview"
      ]
    },
    {
      "cell_type": "code",
      "metadata": {
        "colab": {
          "base_uri": "https://localhost:8080/"
        },
        "id": "q8cGkwtX4Yuv",
        "outputId": "ce8ec6d7-0694-4926-9f13-b43976d21b41"
      },
      "source": [
        "for ix, metric in enumerate(rwg.list_metrics()):\n",
        "  print(str(ix).ljust(4), metric.id)"
      ],
      "execution_count": null,
      "outputs": [
        {
          "output_type": "stream",
          "text": [
            "0    rwg_cbg_foot_traffic_day_202009\n",
            "1    rwg_cbg_foot_traffic_month_202009\n",
            "2    rwg_cbg_foot_traffic_week_202009\n",
            "3    rwg_cbg_return_rate_month_202009\n",
            "4    tract_migration_flow_month_202012\n",
            "5    county_migration_flow_month_202012\n",
            "6    rwg_county_social_distancing_grade_day\n",
            "7    rwg_state_retail_foot_traffic_day_202009\n",
            "8    rwg_state_social_distancing_grade_day\n",
            "9    rwg_venue_capture_rate_quarter_202009\n",
            "10   rwg_venue_foot_traffic_day_202009\n",
            "11   rwg_venue_foot_traffic_month_202009\n",
            "12   rwg_venue_foot_traffic_week_202009\n",
            "13   rwg_venue_return_rate_month_202009\n",
            "14   rwg_venue_visit_length_quarter_202009\n"
          ],
          "name": "stdout"
        }
      ]
    },
    {
      "cell_type": "markdown",
      "metadata": {
        "id": "s4vmUIjcDhJ3"
      },
      "source": [
        "## Metric-specific Dimensions"
      ]
    },
    {
      "cell_type": "markdown",
      "metadata": {
        "id": "sTMbrDuSa7LX"
      },
      "source": [
        "## Metrics"
      ]
    },
    {
      "cell_type": "markdown",
      "metadata": {
        "id": "bQ1GhPKrE5XP"
      },
      "source": [
        "### Venue Return Rate Month\n",
        "\n",
        "Fraction of people visiting a venue in the previous month which are also seen at the same venue this month."
      ]
    },
    {
      "cell_type": "code",
      "metadata": {
        "id": "ieczfVtoErvR"
      },
      "source": [
        "venue_layer = rwg.layer(\"unacast_poi_202102\")"
      ],
      "execution_count": null,
      "outputs": []
    },
    {
      "cell_type": "code",
      "metadata": {
        "colab": {
          "base_uri": "https://localhost:8080/",
          "height": 35
        },
        "id": "HFfgsZSyFUQ8",
        "outputId": "12cfe9b2-09fa-4951-cc04-9f2daa518f09"
      },
      "source": [
        "venue_layer.id"
      ],
      "execution_count": null,
      "outputs": [
        {
          "output_type": "execute_result",
          "data": {
            "application/vnd.google.colaboratory.intrinsic+json": {
              "type": "string"
            },
            "text/plain": [
              "'unacast_poi_202102'"
            ]
          },
          "metadata": {
            "tags": []
          },
          "execution_count": 9
        }
      ]
    },
    {
      "cell_type": "code",
      "metadata": {
        "id": "t8zOlGX5Fs6S"
      },
      "source": [
        "# main values\n",
        "return_rate = ValueSpec(name=\"return_rate\", \n",
        "                        unit=\"Fraction\", \n",
        "                        value_kind=ValueKind.NUMBER, \n",
        "                        display_name=\"Return Rate\", \n",
        "                        description=\"The share of observed devices seen in the previous month which are also seen this month.\"\n",
        "                        )\n"
      ],
      "execution_count": null,
      "outputs": []
    },
    {
      "cell_type": "code",
      "metadata": {
        "id": "Hn8FHR5ZEvq4"
      },
      "source": [
        "venue_return_rate_month = rwg.build_metric(\"rwg_venue_return_rate_month_202103\") \\\n",
        "  .with_layer(venue_layer) \\\n",
        "  .with_value(return_rate) \\\n",
        "  .with_cadence(Cadence.MONTHLY) \\\n",
        "  .with_display_name(\"Venue Return Rate Month\") \\\n",
        "  .with_description(\"Measure of the rate at which people are returning visitors to a venue.\") \\\n",
        "  .create() "
      ],
      "execution_count": null,
      "outputs": []
    },
    {
      "cell_type": "code",
      "metadata": {
        "colab": {
          "base_uri": "https://localhost:8080/",
          "height": 49
        },
        "id": "rGY_FP-jG_WL",
        "outputId": "9b40921a-a1be-4d40-eb9f-171d3a2f05b9"
      },
      "source": [
        "%%bigquery\n",
        "\n",
        "  DECLARE START_DATE DATE DEFAULT \"2018-10-01\";\n",
        "\n",
        "  CREATE OR REPLACE TABLE `uc-unacat.inbox.rwg_venue_return_rate_month_202103` AS (\n",
        "    SELECT \n",
        "      venue_id as feature_id,\n",
        "      observation_start_date as observation_start,\n",
        "      observation_end_date as observation_end,\n",
        "      COALESCE( frac , 0) as value_return_rate\n",
        "    FROM `uc-catalog.venue_package_202103_4d_lag.venue_return_rate_month`\n",
        "    WHERE observation_start_date >= START_DATE\n",
        "         # AND venue_id != \"84ba1736-181c-4be4-86cb-a1a514b4371e\"\n",
        ") "
      ],
      "execution_count": null,
      "outputs": [
        {
          "output_type": "stream",
          "text": [
            "Query successful. Cost $0.01\n"
          ],
          "name": "stdout"
        },
        {
          "output_type": "execute_result",
          "data": {
            "text/html": [
              "<div>\n",
              "<style scoped>\n",
              "    .dataframe tbody tr th:only-of-type {\n",
              "        vertical-align: middle;\n",
              "    }\n",
              "\n",
              "    .dataframe tbody tr th {\n",
              "        vertical-align: top;\n",
              "    }\n",
              "\n",
              "    .dataframe thead th {\n",
              "        text-align: right;\n",
              "    }\n",
              "</style>\n",
              "<table border=\"1\" class=\"dataframe\">\n",
              "  <thead>\n",
              "    <tr style=\"text-align: right;\">\n",
              "      <th></th>\n",
              "    </tr>\n",
              "  </thead>\n",
              "  <tbody>\n",
              "  </tbody>\n",
              "</table>\n",
              "</div>"
            ],
            "text/plain": [
              "Empty DataFrame\n",
              "Columns: []\n",
              "Index: []"
            ]
          },
          "metadata": {
            "tags": []
          },
          "execution_count": 7
        }
      ]
    },
    {
      "cell_type": "code",
      "metadata": {
        "colab": {
          "base_uri": "https://localhost:8080/",
          "height": 97
        },
        "id": "2b_jmYHokhNQ",
        "outputId": "739f9758-e299-4e05-acfa-5be89a6ea2df"
      },
      "source": [
        "%%bigquery\n",
        "\n",
        "  select min(observation_start) as min_start, max(observation_end) as max_end from  `uc-unacat.inbox.rwg_venue_return_rate_month_202103`"
      ],
      "execution_count": null,
      "outputs": [
        {
          "output_type": "stream",
          "text": [
            "Query successful. Cost $0.00\n"
          ],
          "name": "stdout"
        },
        {
          "output_type": "execute_result",
          "data": {
            "text/html": [
              "<div>\n",
              "<style scoped>\n",
              "    .dataframe tbody tr th:only-of-type {\n",
              "        vertical-align: middle;\n",
              "    }\n",
              "\n",
              "    .dataframe tbody tr th {\n",
              "        vertical-align: top;\n",
              "    }\n",
              "\n",
              "    .dataframe thead th {\n",
              "        text-align: right;\n",
              "    }\n",
              "</style>\n",
              "<table border=\"1\" class=\"dataframe\">\n",
              "  <thead>\n",
              "    <tr style=\"text-align: right;\">\n",
              "      <th></th>\n",
              "      <th>min_start</th>\n",
              "      <th>max_end</th>\n",
              "    </tr>\n",
              "  </thead>\n",
              "  <tbody>\n",
              "    <tr>\n",
              "      <th>0</th>\n",
              "      <td>2018-10-01</td>\n",
              "      <td>2021-03-31</td>\n",
              "    </tr>\n",
              "  </tbody>\n",
              "</table>\n",
              "</div>"
            ],
            "text/plain": [
              "    min_start     max_end\n",
              "0  2018-10-01  2021-03-31"
            ]
          },
          "metadata": {
            "tags": []
          },
          "execution_count": 14
        }
      ]
    },
    {
      "cell_type": "code",
      "metadata": {
        "id": "dT5zI-D4HmO6"
      },
      "source": [
        "import datetime\n",
        "index_job = venue_return_rate_month.index(\n",
        "    big_query_table_id=\"rwg_venue_return_rate_month_202103\",\n",
        "    start_date=datetime.date(2018,10,1),\n",
        "    end_date=datetime.date(2021,3,31),\n",
        "    change_set=False\n",
        ")"
      ],
      "execution_count": null,
      "outputs": []
    },
    {
      "cell_type": "code",
      "metadata": {
        "colab": {
          "base_uri": "https://localhost:8080/"
        },
        "id": "urXdS52XL8y3",
        "outputId": "7be385e8-0e28-4132-d194-cdfdef3d4aa1"
      },
      "source": [
        "index_job.status()"
      ],
      "execution_count": null,
      "outputs": [
        {
          "output_type": "execute_result",
          "data": {
            "text/plain": [
              "GetJobStatusResponse(job_id='eyJJbmRleElEIjoiYzI0NWR1cTIzYWtnMDBlZzg1cTAiLCJTdGFydERhdGUiOnsieWVhciI6MjAxOCwibW9udGgiOjEwLCJkYXkiOjF9LCJFbmREYXRlIjp7InllYXIiOjIwMjEsIm1vbnRoIjozLCJkYXkiOjMxfX0=', tasks=1)"
            ]
          },
          "metadata": {
            "tags": []
          },
          "execution_count": 16
        }
      ]
    },
    {
      "cell_type": "code",
      "metadata": {
        "colab": {
          "base_uri": "https://localhost:8080/"
        },
        "id": "O5PCOPLS5f9m",
        "outputId": "05ae6702-5828-4599-db26-fb8ccdb3ca8b"
      },
      "source": [
        "rwg.metric(\"rwg_venue_return_rate_month_202103\").report()"
      ],
      "execution_count": null,
      "outputs": [
        {
          "output_type": "execute_result",
          "data": {
            "text/plain": [
              "MetricReport(observation_period=Period(start=Date(year=2018, month=10, day=1), end=Date(year=2021, month=3, day=31)), total_size=6873287)"
            ]
          },
          "metadata": {
            "tags": []
          },
          "execution_count": 35
        }
      ]
    },
    {
      "cell_type": "markdown",
      "metadata": {
        "id": "Wm6e5myhqkCa"
      },
      "source": [
        "---"
      ]
    },
    {
      "cell_type": "markdown",
      "metadata": {
        "id": "QndJ4QdCqm5g"
      },
      "source": [
        "### Capture Rate"
      ]
    },
    {
      "cell_type": "code",
      "metadata": {
        "id": "o6ZIyn-lqp9Q"
      },
      "source": [
        "venue_layer = rwg.layer(\"unacast_poi_202102\")"
      ],
      "execution_count": null,
      "outputs": []
    },
    {
      "cell_type": "code",
      "metadata": {
        "id": "So4eq5_kqrxI"
      },
      "source": [
        "# main values\n",
        "capture_rate_p50 = ValueSpec(name=\"capture_rate_p50\", \n",
        "                             unit=\"Fraction\", \n",
        "                             value_kind=ValueKind.NUMBER, \n",
        "                             display_name=\"Median ratio between visits of venue and visits of vicinity.\", \n",
        "                             description=\"50th percentile ratio between visits to the venue and visits to the area within 150m from the center of the venue.\"\n",
        "                            )"
      ],
      "execution_count": null,
      "outputs": []
    },
    {
      "cell_type": "code",
      "metadata": {
        "id": "I4eS4JporOJY"
      },
      "source": [
        "# supporting values\n",
        "capture_rate_p25 = ValueSpec(name=\"capture_rate_p25\", \n",
        "                             unit=\"Fraction\", \n",
        "                             value_kind=ValueKind.NUMBER, \n",
        "                             display_name=\"25th percentile of ratio between visits of venue and visits of vicinity.\", \n",
        "                             description=\"25th percentile ratio between visits to the venue and visits to the area within 150m from the center of the venue.\"\n",
        "                            )\n",
        "\n",
        "capture_rate_p75 = ValueSpec(name=\"capture_rate_p75\", \n",
        "                             unit=\"Fraction\", \n",
        "                             value_kind=ValueKind.NUMBER, \n",
        "                             display_name=\"75th percentile of ratio between visits of venue and visits of vicinity.\", \n",
        "                             description=\"75th percentile ratio between visits to the venue and visits to the area within 150m from the center of the venue.\"\n",
        "                            )\n"
      ],
      "execution_count": null,
      "outputs": []
    },
    {
      "cell_type": "code",
      "metadata": {
        "id": "rhSOpLxPraBY"
      },
      "source": [
        "venue_capture_rate = rwg.build_metric(\"rwg_venue_capture_rate_quarter_202103\") \\\n",
        "                               .with_layer(venue_layer) \\\n",
        "                               .with_value(capture_rate_p50) \\\n",
        "                               .with_supporting_value(capture_rate_p25) \\\n",
        "                               .with_supporting_value(capture_rate_p75) \\\n",
        "                               .with_cadence(Cadence.QUARTERLY) \\\n",
        "                               .with_display_name(\"Venue Capture Rate\") \\\n",
        "                               .with_description(\"The ratio between visits to the venue and visits to the area within 150m from the center of the venue.\") \\\n",
        "                               .create() "
      ],
      "execution_count": null,
      "outputs": []
    },
    {
      "cell_type": "code",
      "metadata": {
        "colab": {
          "base_uri": "https://localhost:8080/",
          "height": 49
        },
        "id": "w6dmqGXgrt17",
        "outputId": "b1d0571b-e665-4c34-f97a-d728e5a471cb"
      },
      "source": [
        "%%bigquery\n",
        "\n",
        "  DECLARE START_DATE DATE DEFAULT \"2018-10-01\";\n",
        "\n",
        "  CREATE OR REPLACE TABLE `uc-unacat.inbox.rwg_venue_capture_rate_quarter_202103` AS (\n",
        "    SELECT\n",
        "      venue_id as feature_id,\n",
        "      observation_start_date as observation_start,\n",
        "      observation_end_date as observation_end,\n",
        "      COALESCE(capture_rate_p50, 0) as value_capture_rate_p50,\n",
        "      COALESCE(capture_rate_p25, 0) as value_capture_rate_p25,\n",
        "      COALESCE(capture_rate_p75, 0) as value_capture_rate_p75\n",
        "    FROM `uc-catalog.venue_package_202103_4d_lag.venue_capture_rate`\n",
        "    WHERE observation_start_date >= START_DATE\n",
        "      AND venue_id NOT IN (\"84ba1736-181c-4be4-86cb-a1a514b4371e\", \"f8f3387d-72fc-490f-ac67-10fe7a2a2b2f\", \"70a6a8ed-855a-40ee-81d5-cd0d149e9bc5\", \"6075d9cc-9bed-448c-8895-87b9535c503c\")\n",
        "  )\n",
        "  "
      ],
      "execution_count": null,
      "outputs": [
        {
          "output_type": "stream",
          "text": [
            "Query successful. Cost $0.01\n"
          ],
          "name": "stdout"
        },
        {
          "output_type": "execute_result",
          "data": {
            "text/html": [
              "<div>\n",
              "<style scoped>\n",
              "    .dataframe tbody tr th:only-of-type {\n",
              "        vertical-align: middle;\n",
              "    }\n",
              "\n",
              "    .dataframe tbody tr th {\n",
              "        vertical-align: top;\n",
              "    }\n",
              "\n",
              "    .dataframe thead th {\n",
              "        text-align: right;\n",
              "    }\n",
              "</style>\n",
              "<table border=\"1\" class=\"dataframe\">\n",
              "  <thead>\n",
              "    <tr style=\"text-align: right;\">\n",
              "      <th></th>\n",
              "    </tr>\n",
              "  </thead>\n",
              "  <tbody>\n",
              "  </tbody>\n",
              "</table>\n",
              "</div>"
            ],
            "text/plain": [
              "Empty DataFrame\n",
              "Columns: []\n",
              "Index: []"
            ]
          },
          "metadata": {
            "tags": []
          },
          "execution_count": 16
        }
      ]
    },
    {
      "cell_type": "code",
      "metadata": {
        "colab": {
          "base_uri": "https://localhost:8080/",
          "height": 97
        },
        "id": "DBsbNS9nlQJL",
        "outputId": "93bf4e74-3de0-489b-f142-04314d6a3514"
      },
      "source": [
        "%%bigquery\n",
        "\n",
        "  select min(observation_start) as min_start, max(observation_end) as max_end from  `uc-unacat.inbox.rwg_venue_capture_rate_quarter_202103`"
      ],
      "execution_count": null,
      "outputs": [
        {
          "output_type": "stream",
          "text": [
            "Query successful. Cost $0.00\n"
          ],
          "name": "stdout"
        },
        {
          "output_type": "execute_result",
          "data": {
            "text/html": [
              "<div>\n",
              "<style scoped>\n",
              "    .dataframe tbody tr th:only-of-type {\n",
              "        vertical-align: middle;\n",
              "    }\n",
              "\n",
              "    .dataframe tbody tr th {\n",
              "        vertical-align: top;\n",
              "    }\n",
              "\n",
              "    .dataframe thead th {\n",
              "        text-align: right;\n",
              "    }\n",
              "</style>\n",
              "<table border=\"1\" class=\"dataframe\">\n",
              "  <thead>\n",
              "    <tr style=\"text-align: right;\">\n",
              "      <th></th>\n",
              "      <th>min_start</th>\n",
              "      <th>max_end</th>\n",
              "    </tr>\n",
              "  </thead>\n",
              "  <tbody>\n",
              "    <tr>\n",
              "      <th>0</th>\n",
              "      <td>2018-10-01</td>\n",
              "      <td>2021-03-31</td>\n",
              "    </tr>\n",
              "  </tbody>\n",
              "</table>\n",
              "</div>"
            ],
            "text/plain": [
              "    min_start     max_end\n",
              "0  2018-10-01  2021-03-31"
            ]
          },
          "metadata": {
            "tags": []
          },
          "execution_count": 21
        }
      ]
    },
    {
      "cell_type": "code",
      "metadata": {
        "id": "IZQb3JSTsWXA"
      },
      "source": [
        "import datetime\n",
        "venue_capture_rate = rwg.metric(\"rwg_venue_capture_rate_quarter_202103\") \n",
        "\n",
        "index_job = venue_capture_rate.index(\n",
        "    big_query_table_id=\"rwg_venue_capture_rate_quarter_202103\",\n",
        "    start_date=datetime.date(2018,10,1),\n",
        "    end_date=datetime.date(2021,3,31),\n",
        "    change_set=False\n",
        ")"
      ],
      "execution_count": null,
      "outputs": []
    },
    {
      "cell_type": "code",
      "metadata": {
        "colab": {
          "base_uri": "https://localhost:8080/"
        },
        "id": "vumozQfET6Ag",
        "outputId": "750d520c-db04-44cb-feeb-d4e0e655aec6"
      },
      "source": [
        "index_job.status()"
      ],
      "execution_count": null,
      "outputs": [
        {
          "output_type": "execute_result",
          "data": {
            "text/plain": [
              "GetJobStatusResponse(job_id='eyJJbmRleElEIjoiYzI0NWV0cTIzYWtnMDBlZzg1cWciLCJTdGFydERhdGUiOnsieWVhciI6MjAxOCwibW9udGgiOjEwLCJkYXkiOjF9LCJFbmREYXRlIjp7InllYXIiOjIwMjEsIm1vbnRoIjozLCJkYXkiOjMxfX0=', tasks=1)"
            ]
          },
          "metadata": {
            "tags": []
          },
          "execution_count": 23
        }
      ]
    },
    {
      "cell_type": "code",
      "metadata": {
        "colab": {
          "base_uri": "https://localhost:8080/"
        },
        "id": "tIdESLGFsiDZ",
        "outputId": "6f82fe64-1127-4508-caae-99a06c00557e"
      },
      "source": [
        "rwg.metric(\"rwg_venue_capture_rate_quarter_202103\").report()"
      ],
      "execution_count": null,
      "outputs": [
        {
          "output_type": "execute_result",
          "data": {
            "text/plain": [
              "MetricReport(observation_period=Period(start=Date(year=2018, month=10, day=1), end=Date(year=2021, month=3, day=31)), total_size=4887956)"
            ]
          },
          "metadata": {
            "tags": []
          },
          "execution_count": 11
        }
      ]
    },
    {
      "cell_type": "markdown",
      "metadata": {
        "id": "oeH1szE5W6tE"
      },
      "source": [
        "---"
      ]
    },
    {
      "cell_type": "markdown",
      "metadata": {
        "id": "DApShoA-Zxhk"
      },
      "source": [
        "### Traffic Trends\n",
        "\n",
        "* Traffic trends describes a time-series of visitation counts, across various aggregation periods (e.g., weekly, monthly).\n",
        "\n",
        "* We use aggregated daily unique numbers of visitors by venue from the daily table to derive monthly, weekly  summed visitors and median daily visitors."
      ]
    },
    {
      "cell_type": "markdown",
      "metadata": {
        "id": "Rm3Cqv6qZeUB"
      },
      "source": [
        "#### Venue Foot Traffic Day"
      ]
    },
    {
      "cell_type": "code",
      "metadata": {
        "id": "AawLZWAmZf8S",
        "colab": {
          "base_uri": "https://localhost:8080/"
        },
        "outputId": "82abff42-3b91-450c-da1a-44cc8fd073d0"
      },
      "source": [
        "venue_layer = rwg.layer(\"unacast_poi_202102\")"
      ],
      "execution_count": null,
      "outputs": [
        {
          "output_type": "stream",
          "text": [
            ""
          ],
          "name": "stdout"
        }
      ]
    },
    {
      "cell_type": "code",
      "metadata": {
        "id": "qG1m8MMuZh-o"
      },
      "source": [
        "# main values\n",
        "total_people = ValueSpec(name=\"person_count\", \n",
        "                         unit=\"People\", \n",
        "                         value_kind=ValueKind.COUNT, \n",
        "                         display_name=\"People Count\", \n",
        "                         description=\"The total number of people measured to visit the venue.\")"
      ],
      "execution_count": null,
      "outputs": []
    },
    {
      "cell_type": "code",
      "metadata": {
        "id": "BkgG7z6SZlLh"
      },
      "source": [
        "venue_foot_traffic_day = rwg.build_metric(\"rwg_venue_foot_traffic_day_202103\") \\\n",
        "                            .with_layer(venue_layer) \\\n",
        "                            .with_value(total_people) \\\n",
        "                            .with_cadence(Cadence.DAILY) \\\n",
        "                            .with_display_name(\"Venue Foot Traffic Day\") \\\n",
        "                            .with_description(\"The estimated number of people having visited a venue on a daily basis\") \\\n",
        "                            .create()"
      ],
      "execution_count": null,
      "outputs": []
    },
    {
      "cell_type": "code",
      "metadata": {
        "id": "vUg5cCIE_Pe9"
      },
      "source": [
        "%%bigquery\n",
        "\n",
        "  DECLARE START_DATE DATE DEFAULT \"2018-11-01\";\n",
        "\n",
        "  CREATE OR REPLACE TABLE `uc-unacat.inbox.rwg_venue_foot_traffic_day_202103` AS (\n",
        "    SELECT \n",
        "      venue_id as feature_id,\n",
        "      local_event_date as observation_start,\n",
        "      local_event_date as observation_end,\n",
        "      person_count as value_person_count\n",
        "    FROM `uc-catalog.venue_package_202103_4d_lag.venue_traffic_trends_day`  \n",
        "    WHERE local_event_date >= START_DATE\n",
        "          AND venue_id NOT IN (\"84ba1736-181c-4be4-86cb-a1a514b4371e\", \"f8f3387d-72fc-490f-ac67-10fe7a2a2b2f\", \"70a6a8ed-855a-40ee-81d5-cd0d149e9bc5\", \"6075d9cc-9bed-448c-8895-87b9535c503c\")\n",
        "  )"
      ],
      "execution_count": null,
      "outputs": []
    },
    {
      "cell_type": "code",
      "metadata": {
        "colab": {
          "base_uri": "https://localhost:8080/",
          "height": 97
        },
        "id": "p1qTANMclyUo",
        "outputId": "345a10b5-fa0c-496c-9996-0b29e66d6a4f"
      },
      "source": [
        "%%bigquery\n",
        "\n",
        "  select min(observation_start) as min_start, max(observation_end) as max_end from  `uc-unacat.inbox.rwg_venue_foot_traffic_day_202103`"
      ],
      "execution_count": null,
      "outputs": [
        {
          "output_type": "stream",
          "text": [
            "Query successful. Cost $0.05\n"
          ],
          "name": "stdout"
        },
        {
          "output_type": "execute_result",
          "data": {
            "text/html": [
              "<div>\n",
              "<style scoped>\n",
              "    .dataframe tbody tr th:only-of-type {\n",
              "        vertical-align: middle;\n",
              "    }\n",
              "\n",
              "    .dataframe tbody tr th {\n",
              "        vertical-align: top;\n",
              "    }\n",
              "\n",
              "    .dataframe thead th {\n",
              "        text-align: right;\n",
              "    }\n",
              "</style>\n",
              "<table border=\"1\" class=\"dataframe\">\n",
              "  <thead>\n",
              "    <tr style=\"text-align: right;\">\n",
              "      <th></th>\n",
              "      <th>min_start</th>\n",
              "      <th>max_end</th>\n",
              "    </tr>\n",
              "  </thead>\n",
              "  <tbody>\n",
              "    <tr>\n",
              "      <th>0</th>\n",
              "      <td>2018-11-01</td>\n",
              "      <td>2021-04-21</td>\n",
              "    </tr>\n",
              "  </tbody>\n",
              "</table>\n",
              "</div>"
            ],
            "text/plain": [
              "    min_start     max_end\n",
              "0  2018-11-01  2021-04-21"
            ]
          },
          "metadata": {
            "tags": []
          },
          "execution_count": 26
        }
      ]
    },
    {
      "cell_type": "code",
      "metadata": {
        "id": "BrfFV7K8BCBg"
      },
      "source": [
        "import datetime\n",
        "venue_foot_traffic_day = rwg.metric(\"rwg_venue_foot_traffic_day_202103\")\n",
        "\n",
        "index_job = venue_foot_traffic_day.index(\n",
        "    big_query_table_id=\"rwg_venue_foot_traffic_day_202103\",\n",
        "    start_date=datetime.date(2018,11,1),\n",
        "    end_date=datetime.date(2021,4,21),\n",
        "    change_set=False\n",
        ")"
      ],
      "execution_count": null,
      "outputs": []
    },
    {
      "cell_type": "code",
      "metadata": {
        "colab": {
          "base_uri": "https://localhost:8080/",
          "height": 300
        },
        "id": "4CsHefR3ZJaq",
        "outputId": "388bb065-f908-4823-d113-7c432bd372be"
      },
      "source": [
        "index_job.wait()"
      ],
      "execution_count": null,
      "outputs": [
        {
          "output_type": "stream",
          "text": [
            "⠋ 0/1 Tasks Completed"
          ],
          "name": "stdout"
        },
        {
          "output_type": "error",
          "ename": "KeyboardInterrupt",
          "evalue": "ignored",
          "traceback": [
            "\u001b[0;31m---------------------------------------------------------------------------\u001b[0m",
            "\u001b[0;31mKeyboardInterrupt\u001b[0m                         Traceback (most recent call last)",
            "\u001b[0;32m<ipython-input-28-941bd5fe6274>\u001b[0m in \u001b[0;36m<module>\u001b[0;34m()\u001b[0m\n\u001b[0;32m----> 1\u001b[0;31m \u001b[0mindex_job\u001b[0m\u001b[0;34m.\u001b[0m\u001b[0mwait\u001b[0m\u001b[0;34m(\u001b[0m\u001b[0;34m)\u001b[0m\u001b[0;34m\u001b[0m\u001b[0;34m\u001b[0m\u001b[0m\n\u001b[0m",
            "\u001b[0;32m/usr/local/lib/python3.7/dist-packages/unacatlib/index_job.py\u001b[0m in \u001b[0;36mwait\u001b[0;34m(self, timeout_seconds, poll_interval_seconds)\u001b[0m\n\u001b[1;32m     40\u001b[0m           \u001b[0;32mreturn\u001b[0m \u001b[0mstatus\u001b[0m\u001b[0;34m\u001b[0m\u001b[0;34m\u001b[0m\u001b[0m\n\u001b[1;32m     41\u001b[0m \u001b[0;34m\u001b[0m\u001b[0m\n\u001b[0;32m---> 42\u001b[0;31m         \u001b[0mtime\u001b[0m\u001b[0;34m.\u001b[0m\u001b[0msleep\u001b[0m\u001b[0;34m(\u001b[0m\u001b[0mpoll_interval_seconds\u001b[0m\u001b[0;34m)\u001b[0m\u001b[0;34m\u001b[0m\u001b[0;34m\u001b[0m\u001b[0m\n\u001b[0m\u001b[1;32m     43\u001b[0m \u001b[0;34m\u001b[0m\u001b[0m\n\u001b[1;32m     44\u001b[0m       \u001b[0mspinner\u001b[0m\u001b[0;34m.\u001b[0m\u001b[0mstop\u001b[0m\u001b[0;34m(\u001b[0m\u001b[0;34m)\u001b[0m\u001b[0;34m\u001b[0m\u001b[0;34m\u001b[0m\u001b[0m\n",
            "\u001b[0;31mKeyboardInterrupt\u001b[0m: "
          ]
        },
        {
          "output_type": "stream",
          "text": [
            "\r"
          ],
          "name": "stdout"
        }
      ]
    },
    {
      "cell_type": "code",
      "metadata": {
        "colab": {
          "base_uri": "https://localhost:8080/"
        },
        "id": "m6IOMkiD55G8",
        "outputId": "3f9c4e67-4a5a-4de6-9483-595644c0ada1"
      },
      "source": [
        "rwg.metric(\"rwg_venue_foot_traffic_day_202103\").report()"
      ],
      "execution_count": null,
      "outputs": [
        {
          "output_type": "execute_result",
          "data": {
            "text/plain": [
              "MetricReport(observation_period=Period(start=Date(year=2018, month=11, day=1), end=Date(year=2019, month=5, day=25)), total_size=112554294)"
            ]
          },
          "metadata": {
            "tags": []
          },
          "execution_count": 16
        }
      ]
    },
    {
      "cell_type": "markdown",
      "metadata": {
        "id": "o3aginhsM0zL"
      },
      "source": [
        "#### Venue Foot Traffic Week"
      ]
    },
    {
      "cell_type": "code",
      "metadata": {
        "id": "N6mIxZJ9NG9I"
      },
      "source": [
        "venue_layer = rwg.layer(\"unacast_poi_202102\")"
      ],
      "execution_count": null,
      "outputs": []
    },
    {
      "cell_type": "code",
      "metadata": {
        "id": "9KHh2kMI8rCV"
      },
      "source": [
        "people_breakdown = rwg.dimension(\"people_breakdown\")"
      ],
      "execution_count": null,
      "outputs": []
    },
    {
      "cell_type": "code",
      "metadata": {
        "id": "UV6vDvEa8usO"
      },
      "source": [
        "# main values\n",
        "total_people = ValueSpec(name=\"person_count\", \n",
        "                         unit=\"People\", \n",
        "                         value_kind=ValueKind.COUNT, \n",
        "                         display_name=\"Total People Count\", \n",
        "                         description=\"The total number of people measured to visit the venue.\")"
      ],
      "execution_count": null,
      "outputs": []
    },
    {
      "cell_type": "code",
      "metadata": {
        "id": "k67RZjIJN-Gp"
      },
      "source": [
        "# supporting values\n",
        "daily_people_p50 = ValueSpec(name=\"person_count_p50\", \n",
        "                         unit=\"People\", \n",
        "                         value_kind=ValueKind.COUNT, \n",
        "                         display_name=\"Daily Median People Count\", \n",
        "                         description=\"The median number of people measured to visit the venue per day in week.\")"
      ],
      "execution_count": null,
      "outputs": []
    },
    {
      "cell_type": "code",
      "metadata": {
        "id": "X32PDe1-8y8x"
      },
      "source": [
        "venue_foot_traffic_week = rwg.build_metric(\"rwg_venue_foot_traffic_week_202103\") \\\n",
        "                             .with_layer(venue_layer) \\\n",
        "                             .with_value(total_people) \\\n",
        "                             .with_supporting_value(daily_people_p50) \\\n",
        "                             .with_cadence(Cadence.WEEKLY) \\\n",
        "                             .with_display_name(\"Venue Foot Traffic Week\") \\\n",
        "                             .with_description(\"The estimated number of people having visited a venue on a weekly basis\") \\\n",
        "                             .create()"
      ],
      "execution_count": null,
      "outputs": []
    },
    {
      "cell_type": "code",
      "metadata": {
        "colab": {
          "base_uri": "https://localhost:8080/",
          "height": 49
        },
        "id": "KYeACiKtOxcg",
        "outputId": "24b960be-54ca-43fe-e311-a29871a26d8b"
      },
      "source": [
        "%%bigquery\n",
        "\n",
        "  # uc-prox-core-dev.portal_views.cbg_traffic_trends_week\n",
        "\n",
        "  DECLARE START_DATE DATE DEFAULT \"2018-10-01\";\n",
        "\n",
        "  CREATE OR REPLACE TABLE `uc-unacat.inbox.rwg_venue_foot_traffic_week_202103` AS (\n",
        "    SELECT \n",
        "      venue_id as feature_id,\n",
        "      observation_start_date as observation_start,\n",
        "      observation_end_date as observation_end,\n",
        "      person_count_sum as value_person_count,\n",
        "      daily_person_count_p50\tas value_person_count_p50,\n",
        "    FROM `uc-catalog.venue_package_202103_4d_lag.venue_traffic_trends_week`\n",
        "    WHERE observation_start_date >= START_DATE\n",
        "      AND venue_id NOT IN (\"84ba1736-181c-4be4-86cb-a1a514b4371e\", \"f8f3387d-72fc-490f-ac67-10fe7a2a2b2f\", \"70a6a8ed-855a-40ee-81d5-cd0d149e9bc5\", \"6075d9cc-9bed-448c-8895-87b9535c503c\")\n",
        ")"
      ],
      "execution_count": null,
      "outputs": [
        {
          "output_type": "stream",
          "text": [
            "Query successful. Cost $0.23\n"
          ],
          "name": "stdout"
        },
        {
          "output_type": "execute_result",
          "data": {
            "text/html": [
              "<div>\n",
              "<style scoped>\n",
              "    .dataframe tbody tr th:only-of-type {\n",
              "        vertical-align: middle;\n",
              "    }\n",
              "\n",
              "    .dataframe tbody tr th {\n",
              "        vertical-align: top;\n",
              "    }\n",
              "\n",
              "    .dataframe thead th {\n",
              "        text-align: right;\n",
              "    }\n",
              "</style>\n",
              "<table border=\"1\" class=\"dataframe\">\n",
              "  <thead>\n",
              "    <tr style=\"text-align: right;\">\n",
              "      <th></th>\n",
              "    </tr>\n",
              "  </thead>\n",
              "  <tbody>\n",
              "  </tbody>\n",
              "</table>\n",
              "</div>"
            ],
            "text/plain": [
              "Empty DataFrame\n",
              "Columns: []\n",
              "Index: []"
            ]
          },
          "metadata": {
            "tags": []
          },
          "execution_count": 22
        }
      ]
    },
    {
      "cell_type": "code",
      "metadata": {
        "colab": {
          "base_uri": "https://localhost:8080/",
          "height": 97
        },
        "id": "fJPvfbdjLx6l",
        "outputId": "720b13d2-223f-4088-e0ab-7f760458b947"
      },
      "source": [
        "%%bigquery\n",
        "\n",
        "  select min(observation_start) as min_start, max(observation_end) as max_end from  `uc-unacat.inbox.rwg_venue_foot_traffic_week_202103`"
      ],
      "execution_count": null,
      "outputs": [
        {
          "output_type": "stream",
          "text": [
            "Query successful. Cost $0.01\n"
          ],
          "name": "stdout"
        },
        {
          "output_type": "execute_result",
          "data": {
            "text/html": [
              "<div>\n",
              "<style scoped>\n",
              "    .dataframe tbody tr th:only-of-type {\n",
              "        vertical-align: middle;\n",
              "    }\n",
              "\n",
              "    .dataframe tbody tr th {\n",
              "        vertical-align: top;\n",
              "    }\n",
              "\n",
              "    .dataframe thead th {\n",
              "        text-align: right;\n",
              "    }\n",
              "</style>\n",
              "<table border=\"1\" class=\"dataframe\">\n",
              "  <thead>\n",
              "    <tr style=\"text-align: right;\">\n",
              "      <th></th>\n",
              "      <th>min_start</th>\n",
              "      <th>max_end</th>\n",
              "    </tr>\n",
              "  </thead>\n",
              "  <tbody>\n",
              "    <tr>\n",
              "      <th>0</th>\n",
              "      <td>2018-11-04</td>\n",
              "      <td>2021-04-17</td>\n",
              "    </tr>\n",
              "  </tbody>\n",
              "</table>\n",
              "</div>"
            ],
            "text/plain": [
              "    min_start     max_end\n",
              "0  2018-11-04  2021-04-17"
            ]
          },
          "metadata": {
            "tags": []
          },
          "execution_count": 17
        }
      ]
    },
    {
      "cell_type": "code",
      "metadata": {
        "id": "mj6XUvMBVU9U"
      },
      "source": [
        "import datetime\n",
        "index_job = venue_foot_traffic_week.index(\n",
        "    big_query_table_id=\"rwg_venue_foot_traffic_week_202103\",\n",
        "    start_date=datetime.date(2018, 11, 4),\n",
        "    end_date=datetime.date(2021, 4, 17),\n",
        "    change_set=False\n",
        ")"
      ],
      "execution_count": null,
      "outputs": []
    },
    {
      "cell_type": "code",
      "metadata": {
        "colab": {
          "base_uri": "https://localhost:8080/"
        },
        "id": "2c3Psk695_SU",
        "outputId": "b0fa76bf-881a-4e41-e4c1-7da986bdb3c4"
      },
      "source": [
        "rwg.metric(\"rwg_venue_foot_traffic_week_202103\").report()"
      ],
      "execution_count": null,
      "outputs": [
        {
          "output_type": "execute_result",
          "data": {
            "text/plain": [
              "MetricReport(observation_period=Period())"
            ]
          },
          "metadata": {
            "tags": []
          },
          "execution_count": 38
        }
      ]
    },
    {
      "cell_type": "markdown",
      "metadata": {
        "id": "9gWm2vGkWWBW"
      },
      "source": [
        "#### Venue Foot Traffic Month"
      ]
    },
    {
      "cell_type": "code",
      "metadata": {
        "id": "u0RzWhQLWXfv"
      },
      "source": [
        "venue_layer = rwg.layer(\"unacast_poi_202102\")"
      ],
      "execution_count": null,
      "outputs": []
    },
    {
      "cell_type": "code",
      "metadata": {
        "id": "ujL6AGlbWbuE"
      },
      "source": [
        "# main values\n",
        "total_people = ValueSpec(name=\"person_count\", \n",
        "                         unit=\"People\", \n",
        "                         value_kind=ValueKind.COUNT, \n",
        "                         display_name=\"Total People Count\", \n",
        "                         description=\"The total number of people measured to visit the venue.\")"
      ],
      "execution_count": null,
      "outputs": []
    },
    {
      "cell_type": "code",
      "metadata": {
        "id": "kD4WPrStWb5L"
      },
      "source": [
        "# supporting values\n",
        "daily_people_p50 = ValueSpec(name=\"person_count_p50\", \n",
        "                         unit=\"People\", \n",
        "                         value_kind=ValueKind.COUNT, \n",
        "                         display_name=\"Daily Median People Count\", \n",
        "                         description=\"The median number of people measured to visit the venue per day in a month.\")"
      ],
      "execution_count": null,
      "outputs": []
    },
    {
      "cell_type": "code",
      "metadata": {
        "id": "4E_Tqn3eWb-m"
      },
      "source": [
        "venue_traffic_month = rwg.build_metric(\"rwg_venue_foot_traffic_month_202103\") \\\n",
        "                         .with_layer(venue_layer) \\\n",
        "                         .with_value(total_people) \\\n",
        "                         .with_supporting_value(daily_people_p50) \\\n",
        "                         .with_cadence(Cadence.MONTHLY) \\\n",
        "                         .with_display_name(\"Venue Foot Traffic Month\") \\\n",
        "                         .with_description(\"The estimated number of people having visited a venue on a monthly basis\") \\\n",
        "                         .create()"
      ],
      "execution_count": null,
      "outputs": []
    },
    {
      "cell_type": "code",
      "metadata": {
        "colab": {
          "base_uri": "https://localhost:8080/",
          "height": 49
        },
        "id": "9j81R_4sWcDK",
        "outputId": "0597c4d0-a1e5-4828-ac6f-9cc4265d1ba5"
      },
      "source": [
        "%%bigquery\n",
        "\n",
        "  # uc-prox-core-dev.portal_views.cbg_foot_traffic_month\n",
        "\n",
        "  DECLARE START_DATE DATE DEFAULT \"2018-10-01\";\n",
        "\n",
        "  CREATE OR REPLACE TABLE `uc-unacat.inbox.rwg_venue_foot_traffic_month_202103` AS (\n",
        "    SELECT \n",
        "      venue_id as feature_id,\n",
        "      observation_start_date as observation_start,\n",
        "      observation_end_date as observation_end,\n",
        "      person_count_sum as value_person_count,\n",
        "      daily_person_count_p50\tas value_person_count_p50,\n",
        "    FROM `uc-catalog.venue_package_202103_4d_lag.venue_traffic_trends_month`  \n",
        "    WHERE observation_start_date >= \"2018-10-01\"\n",
        "      AND venue_id NOT IN (\"84ba1736-181c-4be4-86cb-a1a514b4371e\", \"f8f3387d-72fc-490f-ac67-10fe7a2a2b2f\", \"70a6a8ed-855a-40ee-81d5-cd0d149e9bc5\", \"6075d9cc-9bed-448c-8895-87b9535c503c\")\n",
        ")"
      ],
      "execution_count": null,
      "outputs": [
        {
          "output_type": "stream",
          "text": [
            "Query successful. Cost $0.23\n"
          ],
          "name": "stdout"
        },
        {
          "output_type": "execute_result",
          "data": {
            "text/html": [
              "<div>\n",
              "<style scoped>\n",
              "    .dataframe tbody tr th:only-of-type {\n",
              "        vertical-align: middle;\n",
              "    }\n",
              "\n",
              "    .dataframe tbody tr th {\n",
              "        vertical-align: top;\n",
              "    }\n",
              "\n",
              "    .dataframe thead th {\n",
              "        text-align: right;\n",
              "    }\n",
              "</style>\n",
              "<table border=\"1\" class=\"dataframe\">\n",
              "  <thead>\n",
              "    <tr style=\"text-align: right;\">\n",
              "      <th></th>\n",
              "    </tr>\n",
              "  </thead>\n",
              "  <tbody>\n",
              "  </tbody>\n",
              "</table>\n",
              "</div>"
            ],
            "text/plain": [
              "Empty DataFrame\n",
              "Columns: []\n",
              "Index: []"
            ]
          },
          "metadata": {
            "tags": []
          },
          "execution_count": 29
        }
      ]
    },
    {
      "cell_type": "code",
      "metadata": {
        "colab": {
          "base_uri": "https://localhost:8080/",
          "height": 97
        },
        "id": "zrdoXNoqL8Id",
        "outputId": "3b70bf3d-1370-4890-f7b3-15fb3fdb5a59"
      },
      "source": [
        "%%bigquery\n",
        "\n",
        "  select min(observation_start) as min_start, max(observation_end) as max_end from  `uc-unacat.inbox.rwg_venue_foot_traffic_month_202103`"
      ],
      "execution_count": null,
      "outputs": [
        {
          "output_type": "stream",
          "text": [
            "Query successful. Cost $0.00\n"
          ],
          "name": "stdout"
        },
        {
          "output_type": "execute_result",
          "data": {
            "text/html": [
              "<div>\n",
              "<style scoped>\n",
              "    .dataframe tbody tr th:only-of-type {\n",
              "        vertical-align: middle;\n",
              "    }\n",
              "\n",
              "    .dataframe tbody tr th {\n",
              "        vertical-align: top;\n",
              "    }\n",
              "\n",
              "    .dataframe thead th {\n",
              "        text-align: right;\n",
              "    }\n",
              "</style>\n",
              "<table border=\"1\" class=\"dataframe\">\n",
              "  <thead>\n",
              "    <tr style=\"text-align: right;\">\n",
              "      <th></th>\n",
              "      <th>min_start</th>\n",
              "      <th>max_end</th>\n",
              "    </tr>\n",
              "  </thead>\n",
              "  <tbody>\n",
              "    <tr>\n",
              "      <th>0</th>\n",
              "      <td>2018-10-01</td>\n",
              "      <td>2021-03-31</td>\n",
              "    </tr>\n",
              "  </tbody>\n",
              "</table>\n",
              "</div>"
            ],
            "text/plain": [
              "    min_start     max_end\n",
              "0  2018-10-01  2021-03-31"
            ]
          },
          "metadata": {
            "tags": []
          },
          "execution_count": 19
        }
      ]
    },
    {
      "cell_type": "code",
      "metadata": {
        "id": "SsRJGK6vWcHo"
      },
      "source": [
        "index_job = venue_traffic_month.index(\n",
        "    big_query_table_id=\"rwg_venue_foot_traffic_month_202103\",\n",
        "    start_date=datetime.date(2018,10,1),\n",
        "    end_date=datetime.date(2021,3,31),\n",
        "    change_set=False\n",
        ")"
      ],
      "execution_count": null,
      "outputs": []
    },
    {
      "cell_type": "code",
      "metadata": {
        "colab": {
          "base_uri": "https://localhost:8080/"
        },
        "id": "8Hc74D-V6EBj",
        "outputId": "e22e925a-e435-4cb7-fbea-c00b83887d3a"
      },
      "source": [
        "rwg.metric(\"rwg_venue_foot_traffic_month_202103\").report()"
      ],
      "execution_count": null,
      "outputs": [
        {
          "output_type": "stream",
          "text": [
            "⠏ 0/1 Tasks Completed"
          ],
          "name": "stdout"
        },
        {
          "output_type": "execute_result",
          "data": {
            "text/plain": [
              "MetricReport(observation_period=Period(start=Date(year=2018, month=10, day=1), end=Date(year=2021, month=3, day=31)), total_size=26983418)"
            ]
          },
          "metadata": {
            "tags": []
          },
          "execution_count": 17
        },
        {
          "output_type": "stream",
          "text": [
            "⠋ 0/1 Tasks Completed"
          ],
          "name": "stdout"
        }
      ]
    },
    {
      "cell_type": "markdown",
      "metadata": {
        "id": "nevMDh7w9d_T"
      },
      "source": [
        "---"
      ]
    },
    {
      "cell_type": "markdown",
      "metadata": {
        "id": "IP2-M777N6Dy"
      },
      "source": [
        "### Venue Average Catchment Area Distance\n",
        "\n",
        "\n",
        "Distribution of distances traveled by people from their home and work areas to a venue."
      ]
    },
    {
      "cell_type": "code",
      "metadata": {
        "id": "EZB7l-dmOFMT"
      },
      "source": [
        "venue_layer = rwg.layer(\"unacast_poi_202102\")"
      ],
      "execution_count": null,
      "outputs": []
    },
    {
      "cell_type": "code",
      "metadata": {
        "id": "Xa-lHXjGVKPD"
      },
      "source": [
        "habit_area_type = rwg.dimension('habit_area_type')"
      ],
      "execution_count": null,
      "outputs": []
    },
    {
      "cell_type": "code",
      "metadata": {
        "id": "gooetfO_LrT5"
      },
      "source": [
        "  habit_area_type = rwg.build_dimension(\"habit_area_type\") \\\n",
        "  .with_display_name(\"Types of habit area\") \\\n",
        "  .create()"
      ],
      "execution_count": null,
      "outputs": []
    },
    {
      "cell_type": "code",
      "metadata": {
        "id": "zUq4sedOLHx6"
      },
      "source": [
        "distance_bin = rwg.dimension('distance_bin')"
      ],
      "execution_count": null,
      "outputs": []
    },
    {
      "cell_type": "code",
      "metadata": {
        "colab": {
          "base_uri": "https://localhost:8080/",
          "height": 49
        },
        "id": "S_ZzXk7JYjbJ",
        "outputId": "c6827f4f-da65-48fa-9923-187f9e8d8344"
      },
      "source": [
        "%%bigquery\n",
        "\n",
        "CREATE OR REPLACE TABLE `uc-unacat.inbox.rwg_dimension_distance_bin` AS ( \n",
        "\n",
        "  SELECT\n",
        "  DISTINCT distance_bin AS value,\n",
        "  REPLACE(REPLACE(REPLACE(distance_bin,\"50_ABOVE_KM\",\"Above 50 km\"),\"_KM\",\" km\"),\"_\",\" - \") AS display_name\n",
        "FROM\n",
        "  `uc-catalog.venue_package_202103_4d_lag.venue_catchment_area_distance`\n",
        "WHERE\n",
        "  observation_start_date = DATE(2020,1,1)\n",
        "\n",
        ")"
      ],
      "execution_count": null,
      "outputs": [
        {
          "output_type": "stream",
          "text": [
            "Query successful. Cost $0.00\n"
          ],
          "name": "stdout"
        },
        {
          "output_type": "execute_result",
          "data": {
            "text/html": [
              "<div>\n",
              "<style scoped>\n",
              "    .dataframe tbody tr th:only-of-type {\n",
              "        vertical-align: middle;\n",
              "    }\n",
              "\n",
              "    .dataframe tbody tr th {\n",
              "        vertical-align: top;\n",
              "    }\n",
              "\n",
              "    .dataframe thead th {\n",
              "        text-align: right;\n",
              "    }\n",
              "</style>\n",
              "<table border=\"1\" class=\"dataframe\">\n",
              "  <thead>\n",
              "    <tr style=\"text-align: right;\">\n",
              "      <th></th>\n",
              "    </tr>\n",
              "  </thead>\n",
              "  <tbody>\n",
              "  </tbody>\n",
              "</table>\n",
              "</div>"
            ],
            "text/plain": [
              "Empty DataFrame\n",
              "Columns: []\n",
              "Index: []"
            ]
          },
          "metadata": {
            "tags": []
          },
          "execution_count": 40
        }
      ]
    },
    {
      "cell_type": "code",
      "metadata": {
        "colab": {
          "base_uri": "https://localhost:8080/"
        },
        "id": "Vg9--fcnYOXK",
        "outputId": "1e35c234-ba73-4a6b-9bbd-90ab02068606"
      },
      "source": [
        "distance_bin.index(\"rwg_dimension_distance_bin\")"
      ],
      "execution_count": null,
      "outputs": [
        {
          "output_type": "execute_result",
          "data": {
            "text/plain": [
              "<unacatlib.index_job.IndexJob at 0x7f38b6fb4ad0>"
            ]
          },
          "metadata": {
            "tags": []
          },
          "execution_count": 41
        }
      ]
    },
    {
      "cell_type": "code",
      "metadata": {
        "id": "74rDmySiOJfy"
      },
      "source": [
        "# main values\n",
        "median_distance = ValueSpec(name=\"distance_median\", \n",
        "                            unit=\"Km\", \n",
        "                            value_kind=ValueKind.NUMBER, \n",
        "                            display_name=\"Median Distance\", \n",
        "                            description=\"Median distance of visitors' habit area (HOME/WORK) to selected venue.\")"
      ],
      "execution_count": null,
      "outputs": []
    },
    {
      "cell_type": "code",
      "metadata": {
        "id": "KaEuohzROzsK"
      },
      "source": [
        "# supporting values\n",
        "distance_p25 = ValueSpec(name=\"distance_p25\", \n",
        "                         unit=\"Km\", \n",
        "                         value_kind=ValueKind.NUMBER, \n",
        "                         display_name=\"25th Percentile of Distance\", \n",
        "                         description=\"25th percentile of distance of visitors' habit area (HOME/WORK) to selected venue.\")\n",
        "\n",
        "distance_p75 = ValueSpec(name=\"distance_p75\", \n",
        "                         unit=\"Km\", \n",
        "                         value_kind=ValueKind.NUMBER, \n",
        "                         display_name=\"75th Percentile of Distance\", \n",
        "                         description=\"75th percentile of distance of visitors' habit area (HOME/WORK) to selected venue.\")\n",
        "\n",
        "fraction = ValueSpec(name=\"people_fraction\", \n",
        "                          unit=\"Fraction\", \n",
        "                          value_kind=ValueKind.NUMBER, \n",
        "                          display_name=\"Fraction of people in range distance range\", \n",
        "                          description=\"Fraction of people whose habit area (home/work) is in the distance range\")"
      ],
      "execution_count": null,
      "outputs": []
    },
    {
      "cell_type": "code",
      "metadata": {
        "id": "1e1cmm5wQphl"
      },
      "source": [
        "venue_catchment_area_distance = rwg.build_metric(\"rwg_venue_catchment_area_distance_quarter_202103\") \\\n",
        "                               .with_layer(venue_layer) \\\n",
        "                               .with_dimension(habit_area_type, default_value=\"Home\") \\\n",
        "                               .with_value(median_distance) \\\n",
        "                               .with_supporting_value(distance_p25) \\\n",
        "                               .with_supporting_value(distance_p75) \\\n",
        "                               .with_dimension(distance_bin, default_value=\"0_5_KM\") \\\n",
        "                               .with_supporting_value(fraction) \\\n",
        "                               .with_cadence(Cadence.QUARTERLY) \\\n",
        "                               .with_display_name(\"Venue Average Catchment Area Distance\") \\\n",
        "                               .with_description(\"Median distance to home/work of visitors in selected venue.\") \\\n",
        "                               .create() "
      ],
      "execution_count": null,
      "outputs": []
    },
    {
      "cell_type": "code",
      "metadata": {
        "id": "mMG_90Txy2yF"
      },
      "source": [
        "venue_catchment_area_distance = rwg.metric(\"rwg_venue_catchment_area_distance_quarter_202103\")"
      ],
      "execution_count": null,
      "outputs": []
    },
    {
      "cell_type": "code",
      "metadata": {
        "id": "fWq1ubrLSsg-",
        "colab": {
          "base_uri": "https://localhost:8080/",
          "height": 49
        },
        "outputId": "52a543b3-0a8e-4756-c200-01d8c1b9ce82"
      },
      "source": [
        "%%bigquery\n",
        "\n",
        "  DECLARE START_DATE DATE DEFAULT \"2018-10-01\";\n",
        "\n",
        "  CREATE OR REPLACE TABLE `uc-unacat.inbox.rwg_venue_catchment_area_distance_quarter_202103` AS (\n",
        "\n",
        "      SELECT \n",
        "          venue_id as feature_id,\n",
        "          habit_area_type as dimension_habit_area_type,\n",
        "          distance_bin as dimension_distance_bin, \n",
        "          observation_start_date as observation_start,\n",
        "          observation_end_date as observation_end,\n",
        "          COALESCE(distance_from_habit_area_p50, 0) as value_distance_median, \n",
        "          COALESCE(distance_from_habit_area_p25, 0) as value_distance_p25, \n",
        "          COALESCE(distance_from_habit_area_p75, 0) as value_distance_p75, \n",
        "          fraction as value_people_fraction\n",
        "     \n",
        "\n",
        "      FROM `uc-catalog.venue_package_202103_4d_lag.venue_catchment_area_distance`\n",
        "      WHERE observation_start_date >= START_DATE\n",
        "        AND venue_id NOT IN (\"84ba1736-181c-4be4-86cb-a1a514b4371e\", \"f8f3387d-72fc-490f-ac67-10fe7a2a2b2f\", \"70a6a8ed-855a-40ee-81d5-cd0d149e9bc5\", \"6075d9cc-9bed-448c-8895-87b9535c503c\")\n",
        ") "
      ],
      "execution_count": null,
      "outputs": [
        {
          "output_type": "stream",
          "text": [
            "Query successful. Cost $0.02\n"
          ],
          "name": "stdout"
        },
        {
          "output_type": "execute_result",
          "data": {
            "text/html": [
              "<div>\n",
              "<style scoped>\n",
              "    .dataframe tbody tr th:only-of-type {\n",
              "        vertical-align: middle;\n",
              "    }\n",
              "\n",
              "    .dataframe tbody tr th {\n",
              "        vertical-align: top;\n",
              "    }\n",
              "\n",
              "    .dataframe thead th {\n",
              "        text-align: right;\n",
              "    }\n",
              "</style>\n",
              "<table border=\"1\" class=\"dataframe\">\n",
              "  <thead>\n",
              "    <tr style=\"text-align: right;\">\n",
              "      <th></th>\n",
              "    </tr>\n",
              "  </thead>\n",
              "  <tbody>\n",
              "  </tbody>\n",
              "</table>\n",
              "</div>"
            ],
            "text/plain": [
              "Empty DataFrame\n",
              "Columns: []\n",
              "Index: []"
            ]
          },
          "metadata": {
            "tags": []
          },
          "execution_count": 17
        }
      ]
    },
    {
      "cell_type": "code",
      "metadata": {
        "colab": {
          "base_uri": "https://localhost:8080/",
          "height": 97
        },
        "id": "gkhpoN95MYLx",
        "outputId": "f0562cb0-48b2-4656-b719-eef2066afa24"
      },
      "source": [
        "%%bigquery\n",
        "\n",
        "  select min(observation_start) as min_start, max(observation_end) as max_end from  `uc-unacat.inbox.rwg_venue_catchment_area_distance_quarter_202103`"
      ],
      "execution_count": null,
      "outputs": [
        {
          "output_type": "stream",
          "text": [
            "Query successful. Cost $0.01\n"
          ],
          "name": "stdout"
        },
        {
          "output_type": "execute_result",
          "data": {
            "text/html": [
              "<div>\n",
              "<style scoped>\n",
              "    .dataframe tbody tr th:only-of-type {\n",
              "        vertical-align: middle;\n",
              "    }\n",
              "\n",
              "    .dataframe tbody tr th {\n",
              "        vertical-align: top;\n",
              "    }\n",
              "\n",
              "    .dataframe thead th {\n",
              "        text-align: right;\n",
              "    }\n",
              "</style>\n",
              "<table border=\"1\" class=\"dataframe\">\n",
              "  <thead>\n",
              "    <tr style=\"text-align: right;\">\n",
              "      <th></th>\n",
              "      <th>min_start</th>\n",
              "      <th>max_end</th>\n",
              "    </tr>\n",
              "  </thead>\n",
              "  <tbody>\n",
              "    <tr>\n",
              "      <th>0</th>\n",
              "      <td>2018-10-01</td>\n",
              "      <td>2021-03-31</td>\n",
              "    </tr>\n",
              "  </tbody>\n",
              "</table>\n",
              "</div>"
            ],
            "text/plain": [
              "    min_start     max_end\n",
              "0  2018-10-01  2021-03-31"
            ]
          },
          "metadata": {
            "tags": []
          },
          "execution_count": 15
        }
      ]
    },
    {
      "cell_type": "code",
      "metadata": {
        "id": "AZvjAyt6SlCD"
      },
      "source": [
        "import datetime\n",
        "index_job = venue_catchment_area_distance.index(\n",
        "    big_query_table_id=\"rwg_venue_catchment_area_distance_quarter_202103\",\n",
        "    start_date=datetime.date(2018,10,1),\n",
        "    end_date=datetime.date(2021,3,31),\n",
        "    change_set=False\n",
        ")"
      ],
      "execution_count": null,
      "outputs": []
    },
    {
      "cell_type": "code",
      "metadata": {
        "colab": {
          "base_uri": "https://localhost:8080/"
        },
        "id": "lAZY2tFN1O18",
        "outputId": "b58d792b-2c32-4349-bb33-7e77f60351a0"
      },
      "source": [
        "index_job.status()"
      ],
      "execution_count": null,
      "outputs": [
        {
          "output_type": "execute_result",
          "data": {
            "text/plain": [
              "GetJobStatusResponse(job_id='eyJJbmRleElEIjoiYzI1NzdwYTIzYWtnMDBlcjR0ajAiLCJTdGFydERhdGUiOnsieWVhciI6MjAxOCwibW9udGgiOjEwLCJkYXkiOjF9LCJFbmREYXRlIjp7InllYXIiOjIwMjEsIm1vbnRoIjozLCJkYXkiOjMxfX0=', tasks=1)"
            ]
          },
          "metadata": {
            "tags": []
          },
          "execution_count": 32
        }
      ]
    },
    {
      "cell_type": "code",
      "metadata": {
        "colab": {
          "base_uri": "https://localhost:8080/",
          "height": 307
        },
        "id": "4uKStzgf6JPz",
        "outputId": "d05e8945-b011-4379-e346-b83a3aa44734"
      },
      "source": [
        "rwg.metric(\"rwg_venue_catchment_area_distance_quarter_202103\").report()"
      ],
      "execution_count": null,
      "outputs": [
        {
          "output_type": "error",
          "ename": "GRPCError",
          "evalue": "ignored",
          "traceback": [
            "\u001b[0;31m---------------------------------------------------------------------------\u001b[0m",
            "\u001b[0;31mGRPCError\u001b[0m                                 Traceback (most recent call last)",
            "\u001b[0;32m<ipython-input-33-72560e4a2c3e>\u001b[0m in \u001b[0;36m<module>\u001b[0;34m()\u001b[0m\n\u001b[0;32m----> 1\u001b[0;31m \u001b[0mrwg\u001b[0m\u001b[0;34m.\u001b[0m\u001b[0mmetric\u001b[0m\u001b[0;34m(\u001b[0m\u001b[0;34m\"rwg_venue_catchment_area_distance_quarter_202103\"\u001b[0m\u001b[0;34m)\u001b[0m\u001b[0;34m.\u001b[0m\u001b[0mreport\u001b[0m\u001b[0;34m(\u001b[0m\u001b[0;34m)\u001b[0m\u001b[0;34m\u001b[0m\u001b[0;34m\u001b[0m\u001b[0m\n\u001b[0m",
            "\u001b[0;32m/usr/local/lib/python3.7/dist-packages/unacatlib/metric.py\u001b[0m in \u001b[0;36mreport\u001b[0;34m(self)\u001b[0m\n\u001b[1;32m     52\u001b[0m \u001b[0;34m\u001b[0m\u001b[0m\n\u001b[1;32m     53\u001b[0m     \u001b[0;32mdef\u001b[0m \u001b[0mreport\u001b[0m\u001b[0;34m(\u001b[0m\u001b[0mself\u001b[0m\u001b[0;34m)\u001b[0m\u001b[0;34m:\u001b[0m\u001b[0;34m\u001b[0m\u001b[0;34m\u001b[0m\u001b[0m\n\u001b[0;32m---> 54\u001b[0;31m         \u001b[0;32mreturn\u001b[0m \u001b[0mself\u001b[0m\u001b[0;34m.\u001b[0m\u001b[0m_catalog\u001b[0m\u001b[0;34m.\u001b[0m\u001b[0m_client\u001b[0m\u001b[0;34m.\u001b[0m\u001b[0mmetric_report\u001b[0m\u001b[0;34m(\u001b[0m\u001b[0mself\u001b[0m\u001b[0;34m.\u001b[0m\u001b[0m_catalog\u001b[0m\u001b[0;34m.\u001b[0m\u001b[0mid\u001b[0m\u001b[0;34m,\u001b[0m \u001b[0mself\u001b[0m\u001b[0;34m.\u001b[0m\u001b[0m_metric\u001b[0m\u001b[0;34m.\u001b[0m\u001b[0mid\u001b[0m\u001b[0;34m)\u001b[0m\u001b[0;34m\u001b[0m\u001b[0;34m\u001b[0m\u001b[0m\n\u001b[0m\u001b[1;32m     55\u001b[0m \u001b[0;34m\u001b[0m\u001b[0m\n\u001b[1;32m     56\u001b[0m     \u001b[0;32mdef\u001b[0m \u001b[0mvalues\u001b[0m\u001b[0;34m(\u001b[0m\u001b[0mself\u001b[0m\u001b[0;34m,\u001b[0m \u001b[0minclude_geo\u001b[0m\u001b[0;34m:\u001b[0m \u001b[0mbool\u001b[0m \u001b[0;34m=\u001b[0m \u001b[0;32mFalse\u001b[0m\u001b[0;34m)\u001b[0m \u001b[0;34m->\u001b[0m \u001b[0mDataFrame\u001b[0m\u001b[0;34m:\u001b[0m\u001b[0;34m\u001b[0m\u001b[0;34m\u001b[0m\u001b[0m\n",
            "\u001b[0;32m/usr/local/lib/python3.7/dist-packages/unacatlib/client.py\u001b[0m in \u001b[0;36mmetric_report\u001b[0;34m(self, catalog_id, metric_id)\u001b[0m\n\u001b[1;32m    124\u001b[0m                 \u001b[0mtrack_total_hits\u001b[0m\u001b[0;34m=\u001b[0m\u001b[0;32mTrue\u001b[0m\u001b[0;34m,\u001b[0m\u001b[0;34m\u001b[0m\u001b[0;34m\u001b[0m\u001b[0m\n\u001b[1;32m    125\u001b[0m                 \u001b[0mdisable_cardinalities\u001b[0m\u001b[0;34m=\u001b[0m\u001b[0;32mTrue\u001b[0m\u001b[0;34m,\u001b[0m\u001b[0;34m\u001b[0m\u001b[0;34m\u001b[0m\u001b[0m\n\u001b[0;32m--> 126\u001b[0;31m                 \u001b[0mdisable_percentiles\u001b[0m\u001b[0;34m=\u001b[0m\u001b[0;32mTrue\u001b[0m\u001b[0;34m\u001b[0m\u001b[0;34m\u001b[0m\u001b[0m\n\u001b[0m\u001b[1;32m    127\u001b[0m             )\n\u001b[1;32m    128\u001b[0m         ).report\n",
            "\u001b[0;32m/usr/lib/python3.7/functools.py\u001b[0m in \u001b[0;36mwrapper\u001b[0;34m(*args, **kw)\u001b[0m\n\u001b[1;32m    838\u001b[0m                             '1 positional argument')\n\u001b[1;32m    839\u001b[0m \u001b[0;34m\u001b[0m\u001b[0m\n\u001b[0;32m--> 840\u001b[0;31m         \u001b[0;32mreturn\u001b[0m \u001b[0mdispatch\u001b[0m\u001b[0;34m(\u001b[0m\u001b[0margs\u001b[0m\u001b[0;34m[\u001b[0m\u001b[0;36m0\u001b[0m\u001b[0;34m]\u001b[0m\u001b[0;34m.\u001b[0m\u001b[0m__class__\u001b[0m\u001b[0;34m)\u001b[0m\u001b[0;34m(\u001b[0m\u001b[0;34m*\u001b[0m\u001b[0margs\u001b[0m\u001b[0;34m,\u001b[0m \u001b[0;34m**\u001b[0m\u001b[0mkw\u001b[0m\u001b[0;34m)\u001b[0m\u001b[0;34m\u001b[0m\u001b[0;34m\u001b[0m\u001b[0m\n\u001b[0m\u001b[1;32m    841\u001b[0m \u001b[0;34m\u001b[0m\u001b[0m\n\u001b[1;32m    842\u001b[0m     \u001b[0mfuncname\u001b[0m \u001b[0;34m=\u001b[0m \u001b[0mgetattr\u001b[0m\u001b[0;34m(\u001b[0m\u001b[0mfunc\u001b[0m\u001b[0;34m,\u001b[0m \u001b[0;34m'__name__'\u001b[0m\u001b[0;34m,\u001b[0m \u001b[0;34m'singledispatch function'\u001b[0m\u001b[0;34m)\u001b[0m\u001b[0;34m\u001b[0m\u001b[0;34m\u001b[0m\u001b[0m\n",
            "\u001b[0;32m/usr/local/lib/python3.7/dist-packages/syncer.py\u001b[0m in \u001b[0;36msync_co\u001b[0;34m(co)\u001b[0m\n\u001b[1;32m     31\u001b[0m     \u001b[0;32mif\u001b[0m \u001b[0;32mnot\u001b[0m \u001b[0m_is_awaitable\u001b[0m\u001b[0;34m(\u001b[0m\u001b[0mco\u001b[0m\u001b[0;34m)\u001b[0m\u001b[0;34m:\u001b[0m\u001b[0;34m\u001b[0m\u001b[0;34m\u001b[0m\u001b[0m\n\u001b[1;32m     32\u001b[0m         \u001b[0;32mraise\u001b[0m \u001b[0mTypeError\u001b[0m\u001b[0;34m(\u001b[0m\u001b[0;34m'Called with unsupported argument: {}'\u001b[0m\u001b[0;34m.\u001b[0m\u001b[0mformat\u001b[0m\u001b[0;34m(\u001b[0m\u001b[0mco\u001b[0m\u001b[0;34m)\u001b[0m\u001b[0;34m)\u001b[0m\u001b[0;34m\u001b[0m\u001b[0;34m\u001b[0m\u001b[0m\n\u001b[0;32m---> 33\u001b[0;31m     \u001b[0;32mreturn\u001b[0m \u001b[0masyncio\u001b[0m\u001b[0;34m.\u001b[0m\u001b[0mget_event_loop\u001b[0m\u001b[0;34m(\u001b[0m\u001b[0;34m)\u001b[0m\u001b[0;34m.\u001b[0m\u001b[0mrun_until_complete\u001b[0m\u001b[0;34m(\u001b[0m\u001b[0mco\u001b[0m\u001b[0;34m)\u001b[0m\u001b[0;34m\u001b[0m\u001b[0;34m\u001b[0m\u001b[0m\n\u001b[0m\u001b[1;32m     34\u001b[0m \u001b[0;34m\u001b[0m\u001b[0m\n\u001b[1;32m     35\u001b[0m \u001b[0;34m\u001b[0m\u001b[0m\n",
            "\u001b[0;32m/usr/local/lib/python3.7/dist-packages/nest_asyncio.py\u001b[0m in \u001b[0;36mrun_until_complete\u001b[0;34m(self, future)\u001b[0m\n\u001b[1;32m     96\u001b[0m                 raise RuntimeError(\n\u001b[1;32m     97\u001b[0m                     'Event loop stopped before Future completed.')\n\u001b[0;32m---> 98\u001b[0;31m             \u001b[0;32mreturn\u001b[0m \u001b[0mf\u001b[0m\u001b[0;34m.\u001b[0m\u001b[0mresult\u001b[0m\u001b[0;34m(\u001b[0m\u001b[0;34m)\u001b[0m\u001b[0;34m\u001b[0m\u001b[0;34m\u001b[0m\u001b[0m\n\u001b[0m\u001b[1;32m     99\u001b[0m         \u001b[0;32mfinally\u001b[0m\u001b[0;34m:\u001b[0m\u001b[0;34m\u001b[0m\u001b[0;34m\u001b[0m\u001b[0m\n\u001b[1;32m    100\u001b[0m             \u001b[0mself\u001b[0m\u001b[0;34m.\u001b[0m\u001b[0m_thread_id\u001b[0m \u001b[0;34m=\u001b[0m \u001b[0mold_thread_id\u001b[0m\u001b[0;34m\u001b[0m\u001b[0;34m\u001b[0m\u001b[0m\n",
            "\u001b[0;32m/usr/lib/python3.7/asyncio/futures.py\u001b[0m in \u001b[0;36mresult\u001b[0;34m(self)\u001b[0m\n\u001b[1;32m    179\u001b[0m         \u001b[0mself\u001b[0m\u001b[0;34m.\u001b[0m\u001b[0m__log_traceback\u001b[0m \u001b[0;34m=\u001b[0m \u001b[0;32mFalse\u001b[0m\u001b[0;34m\u001b[0m\u001b[0;34m\u001b[0m\u001b[0m\n\u001b[1;32m    180\u001b[0m         \u001b[0;32mif\u001b[0m \u001b[0mself\u001b[0m\u001b[0;34m.\u001b[0m\u001b[0m_exception\u001b[0m \u001b[0;32mis\u001b[0m \u001b[0;32mnot\u001b[0m \u001b[0;32mNone\u001b[0m\u001b[0;34m:\u001b[0m\u001b[0;34m\u001b[0m\u001b[0;34m\u001b[0m\u001b[0m\n\u001b[0;32m--> 181\u001b[0;31m             \u001b[0;32mraise\u001b[0m \u001b[0mself\u001b[0m\u001b[0;34m.\u001b[0m\u001b[0m_exception\u001b[0m\u001b[0;34m\u001b[0m\u001b[0;34m\u001b[0m\u001b[0m\n\u001b[0m\u001b[1;32m    182\u001b[0m         \u001b[0;32mreturn\u001b[0m \u001b[0mself\u001b[0m\u001b[0;34m.\u001b[0m\u001b[0m_result\u001b[0m\u001b[0;34m\u001b[0m\u001b[0;34m\u001b[0m\u001b[0m\n\u001b[1;32m    183\u001b[0m \u001b[0;34m\u001b[0m\u001b[0m\n",
            "\u001b[0;32m/usr/lib/python3.7/asyncio/tasks.py\u001b[0m in \u001b[0;36m__step\u001b[0;34m(***failed resolving arguments***)\u001b[0m\n\u001b[1;32m    247\u001b[0m                 \u001b[0;31m# We use the `send` method directly, because coroutines\u001b[0m\u001b[0;34m\u001b[0m\u001b[0;34m\u001b[0m\u001b[0;34m\u001b[0m\u001b[0m\n\u001b[1;32m    248\u001b[0m                 \u001b[0;31m# don't have `__iter__` and `__next__` methods.\u001b[0m\u001b[0;34m\u001b[0m\u001b[0;34m\u001b[0m\u001b[0;34m\u001b[0m\u001b[0m\n\u001b[0;32m--> 249\u001b[0;31m                 \u001b[0mresult\u001b[0m \u001b[0;34m=\u001b[0m \u001b[0mcoro\u001b[0m\u001b[0;34m.\u001b[0m\u001b[0msend\u001b[0m\u001b[0;34m(\u001b[0m\u001b[0;32mNone\u001b[0m\u001b[0;34m)\u001b[0m\u001b[0;34m\u001b[0m\u001b[0;34m\u001b[0m\u001b[0m\n\u001b[0m\u001b[1;32m    250\u001b[0m             \u001b[0;32melse\u001b[0m\u001b[0;34m:\u001b[0m\u001b[0;34m\u001b[0m\u001b[0;34m\u001b[0m\u001b[0m\n\u001b[1;32m    251\u001b[0m                 \u001b[0mresult\u001b[0m \u001b[0;34m=\u001b[0m \u001b[0mcoro\u001b[0m\u001b[0;34m.\u001b[0m\u001b[0mthrow\u001b[0m\u001b[0;34m(\u001b[0m\u001b[0mexc\u001b[0m\u001b[0;34m)\u001b[0m\u001b[0;34m\u001b[0m\u001b[0;34m\u001b[0m\u001b[0m\n",
            "\u001b[0;32m/usr/local/lib/python3.7/dist-packages/unacatlib/unacast/catalog/v1/__init__.py\u001b[0m in \u001b[0;36msearch_metric_report\u001b[0;34m(self, catalog_id, metric_id, billing_context, track_total_hits, best_effort_query_when_not_allowed, feature_filter, observation_period_filter, disable_percentiles, disable_cardinalities, address_component_filter, dimension_filter)\u001b[0m\n\u001b[1;32m    515\u001b[0m             \u001b[0;34m\"/unacast.catalog.v1.QueryService/SearchMetricReport\"\u001b[0m\u001b[0;34m,\u001b[0m\u001b[0;34m\u001b[0m\u001b[0;34m\u001b[0m\u001b[0m\n\u001b[1;32m    516\u001b[0m             \u001b[0mrequest\u001b[0m\u001b[0;34m,\u001b[0m\u001b[0;34m\u001b[0m\u001b[0;34m\u001b[0m\u001b[0m\n\u001b[0;32m--> 517\u001b[0;31m             \u001b[0mSearchMetricReportResponse\u001b[0m\u001b[0;34m,\u001b[0m\u001b[0;34m\u001b[0m\u001b[0;34m\u001b[0m\u001b[0m\n\u001b[0m\u001b[1;32m    518\u001b[0m         )\n\u001b[1;32m    519\u001b[0m \u001b[0;34m\u001b[0m\u001b[0m\n",
            "\u001b[0;32m/usr/local/lib/python3.7/dist-packages/betterproto/grpc/grpclib_client.py\u001b[0m in \u001b[0;36m_unary_unary\u001b[0;34m(self, route, request, response_type, timeout, deadline, metadata)\u001b[0m\n\u001b[1;32m     78\u001b[0m         ) as stream:\n\u001b[1;32m     79\u001b[0m             \u001b[0;32mawait\u001b[0m \u001b[0mstream\u001b[0m\u001b[0;34m.\u001b[0m\u001b[0msend_message\u001b[0m\u001b[0;34m(\u001b[0m\u001b[0mrequest\u001b[0m\u001b[0;34m,\u001b[0m \u001b[0mend\u001b[0m\u001b[0;34m=\u001b[0m\u001b[0;32mTrue\u001b[0m\u001b[0;34m)\u001b[0m\u001b[0;34m\u001b[0m\u001b[0;34m\u001b[0m\u001b[0m\n\u001b[0;32m---> 80\u001b[0;31m             \u001b[0mresponse\u001b[0m \u001b[0;34m=\u001b[0m \u001b[0;32mawait\u001b[0m \u001b[0mstream\u001b[0m\u001b[0;34m.\u001b[0m\u001b[0mrecv_message\u001b[0m\u001b[0;34m(\u001b[0m\u001b[0;34m)\u001b[0m\u001b[0;34m\u001b[0m\u001b[0;34m\u001b[0m\u001b[0m\n\u001b[0m\u001b[1;32m     81\u001b[0m         \u001b[0;32massert\u001b[0m \u001b[0mresponse\u001b[0m \u001b[0;32mis\u001b[0m \u001b[0;32mnot\u001b[0m \u001b[0;32mNone\u001b[0m\u001b[0;34m\u001b[0m\u001b[0;34m\u001b[0m\u001b[0m\n\u001b[1;32m     82\u001b[0m         \u001b[0;32mreturn\u001b[0m \u001b[0mresponse\u001b[0m\u001b[0;34m\u001b[0m\u001b[0;34m\u001b[0m\u001b[0m\n",
            "\u001b[0;32m/usr/local/lib/python3.7/dist-packages/grpclib/client.py\u001b[0m in \u001b[0;36m__aexit__\u001b[0;34m(self, exc_type, exc_val, exc_tb)\u001b[0m\n\u001b[1;32m    529\u001b[0m             \u001b[0;32mif\u001b[0m \u001b[0mreraise\u001b[0m\u001b[0;34m:\u001b[0m\u001b[0;34m\u001b[0m\u001b[0;34m\u001b[0m\u001b[0m\n\u001b[1;32m    530\u001b[0m                 \u001b[0;32massert\u001b[0m \u001b[0mexc_val\u001b[0m \u001b[0;32mis\u001b[0m \u001b[0;32mnot\u001b[0m \u001b[0;32mNone\u001b[0m\u001b[0;34m\u001b[0m\u001b[0;34m\u001b[0m\u001b[0m\n\u001b[0;32m--> 531\u001b[0;31m                 \u001b[0;32mraise\u001b[0m \u001b[0mexc_val\u001b[0m\u001b[0;34m\u001b[0m\u001b[0;34m\u001b[0m\u001b[0m\n\u001b[0m\u001b[1;32m    532\u001b[0m         \u001b[0;32mfinally\u001b[0m\u001b[0;34m:\u001b[0m\u001b[0;34m\u001b[0m\u001b[0;34m\u001b[0m\u001b[0m\n\u001b[1;32m    533\u001b[0m             \u001b[0;32mif\u001b[0m \u001b[0mself\u001b[0m\u001b[0;34m.\u001b[0m\u001b[0m_stream\u001b[0m\u001b[0;34m.\u001b[0m\u001b[0mclosable\u001b[0m\u001b[0;34m:\u001b[0m\u001b[0;34m\u001b[0m\u001b[0;34m\u001b[0m\u001b[0m\n",
            "\u001b[0;32m/usr/local/lib/python3.7/dist-packages/grpclib/client.py\u001b[0m in \u001b[0;36m__aexit__\u001b[0;34m(self, exc_type, exc_val, exc_tb)\u001b[0m\n\u001b[1;32m    519\u001b[0m             \u001b[0;32mif\u001b[0m \u001b[0mexc_val\u001b[0m \u001b[0;32mis\u001b[0m \u001b[0;32mNone\u001b[0m\u001b[0;34m:\u001b[0m\u001b[0;34m\u001b[0m\u001b[0;34m\u001b[0m\u001b[0m\n\u001b[1;32m    520\u001b[0m                 \u001b[0;32mtry\u001b[0m\u001b[0;34m:\u001b[0m\u001b[0;34m\u001b[0m\u001b[0;34m\u001b[0m\u001b[0m\n\u001b[0;32m--> 521\u001b[0;31m                     \u001b[0;32mawait\u001b[0m \u001b[0mself\u001b[0m\u001b[0;34m.\u001b[0m\u001b[0m_maybe_finish\u001b[0m\u001b[0;34m(\u001b[0m\u001b[0;34m)\u001b[0m\u001b[0;34m\u001b[0m\u001b[0;34m\u001b[0m\u001b[0m\n\u001b[0m\u001b[1;32m    522\u001b[0m                 \u001b[0;32mexcept\u001b[0m \u001b[0mException\u001b[0m\u001b[0;34m:\u001b[0m\u001b[0;34m\u001b[0m\u001b[0;34m\u001b[0m\u001b[0m\n\u001b[1;32m    523\u001b[0m                     \u001b[0mexc_type\u001b[0m\u001b[0;34m,\u001b[0m \u001b[0mexc_val\u001b[0m\u001b[0;34m,\u001b[0m \u001b[0mexc_tb\u001b[0m \u001b[0;34m=\u001b[0m \u001b[0msys\u001b[0m\u001b[0;34m.\u001b[0m\u001b[0mexc_info\u001b[0m\u001b[0;34m(\u001b[0m\u001b[0;34m)\u001b[0m\u001b[0;34m\u001b[0m\u001b[0;34m\u001b[0m\u001b[0m\n",
            "\u001b[0;32m/usr/local/lib/python3.7/dist-packages/grpclib/client.py\u001b[0m in \u001b[0;36m_maybe_finish\u001b[0;34m(self)\u001b[0m\n\u001b[1;32m    495\u001b[0m                 \u001b[0;32mawait\u001b[0m \u001b[0mself\u001b[0m\u001b[0;34m.\u001b[0m\u001b[0mrecv_initial_metadata\u001b[0m\u001b[0;34m(\u001b[0m\u001b[0;34m)\u001b[0m\u001b[0;34m\u001b[0m\u001b[0;34m\u001b[0m\u001b[0m\n\u001b[1;32m    496\u001b[0m             \u001b[0;32mif\u001b[0m \u001b[0;32mnot\u001b[0m \u001b[0mself\u001b[0m\u001b[0;34m.\u001b[0m\u001b[0m_recv_trailing_metadata_done\u001b[0m\u001b[0;34m:\u001b[0m\u001b[0;34m\u001b[0m\u001b[0;34m\u001b[0m\u001b[0m\n\u001b[0;32m--> 497\u001b[0;31m                 \u001b[0;32mawait\u001b[0m \u001b[0mself\u001b[0m\u001b[0;34m.\u001b[0m\u001b[0mrecv_trailing_metadata\u001b[0m\u001b[0;34m(\u001b[0m\u001b[0;34m)\u001b[0m\u001b[0;34m\u001b[0m\u001b[0;34m\u001b[0m\u001b[0m\n\u001b[0m\u001b[1;32m    498\u001b[0m \u001b[0;34m\u001b[0m\u001b[0m\n\u001b[1;32m    499\u001b[0m     \u001b[0;32mdef\u001b[0m \u001b[0m_maybe_raise\u001b[0m\u001b[0;34m(\u001b[0m\u001b[0mself\u001b[0m\u001b[0;34m)\u001b[0m \u001b[0;34m->\u001b[0m \u001b[0;32mNone\u001b[0m\u001b[0;34m:\u001b[0m\u001b[0;34m\u001b[0m\u001b[0;34m\u001b[0m\u001b[0m\n",
            "\u001b[0;32m/usr/local/lib/python3.7/dist-packages/grpclib/client.py\u001b[0m in \u001b[0;36mrecv_trailing_metadata\u001b[0;34m(self)\u001b[0m\n\u001b[1;32m    456\u001b[0m                 \u001b[0mself\u001b[0m\u001b[0;34m.\u001b[0m\u001b[0mtrailing_metadata\u001b[0m \u001b[0;34m=\u001b[0m \u001b[0mtm\u001b[0m\u001b[0;34m\u001b[0m\u001b[0;34m\u001b[0m\u001b[0m\n\u001b[1;32m    457\u001b[0m \u001b[0;34m\u001b[0m\u001b[0m\n\u001b[0;32m--> 458\u001b[0;31m                 \u001b[0mself\u001b[0m\u001b[0;34m.\u001b[0m\u001b[0m_raise_for_grpc_status\u001b[0m\u001b[0;34m(\u001b[0m\u001b[0mdict\u001b[0m\u001b[0;34m(\u001b[0m\u001b[0mtrailers\u001b[0m\u001b[0;34m)\u001b[0m\u001b[0;34m)\u001b[0m\u001b[0;34m\u001b[0m\u001b[0;34m\u001b[0m\u001b[0m\n\u001b[0m\u001b[1;32m    459\u001b[0m \u001b[0;34m\u001b[0m\u001b[0m\n\u001b[1;32m    460\u001b[0m     \u001b[0;32masync\u001b[0m \u001b[0;32mdef\u001b[0m \u001b[0mcancel\u001b[0m\u001b[0;34m(\u001b[0m\u001b[0mself\u001b[0m\u001b[0;34m)\u001b[0m \u001b[0;34m->\u001b[0m \u001b[0;32mNone\u001b[0m\u001b[0;34m:\u001b[0m\u001b[0;34m\u001b[0m\u001b[0;34m\u001b[0m\u001b[0m\n",
            "\u001b[0;32m/usr/local/lib/python3.7/dist-packages/grpclib/client.py\u001b[0m in \u001b[0;36m_raise_for_grpc_status\u001b[0;34m(self, headers_map)\u001b[0m\n\u001b[1;32m    335\u001b[0m                             \u001b[0mdecode_bin_value\u001b[0m\u001b[0;34m(\u001b[0m\u001b[0mdetails_bin\u001b[0m\u001b[0;34m.\u001b[0m\u001b[0mencode\u001b[0m\u001b[0;34m(\u001b[0m\u001b[0;34m'ascii'\u001b[0m\u001b[0;34m)\u001b[0m\u001b[0;34m)\u001b[0m\u001b[0;34m\u001b[0m\u001b[0;34m\u001b[0m\u001b[0m\n\u001b[1;32m    336\u001b[0m                         )\n\u001b[0;32m--> 337\u001b[0;31m                 \u001b[0;32mraise\u001b[0m \u001b[0mGRPCError\u001b[0m\u001b[0;34m(\u001b[0m\u001b[0mstatus\u001b[0m\u001b[0;34m,\u001b[0m \u001b[0mmessage\u001b[0m\u001b[0;34m,\u001b[0m \u001b[0mdetails\u001b[0m\u001b[0;34m)\u001b[0m\u001b[0;34m\u001b[0m\u001b[0;34m\u001b[0m\u001b[0m\n\u001b[0m\u001b[1;32m    338\u001b[0m \u001b[0;34m\u001b[0m\u001b[0m\n\u001b[1;32m    339\u001b[0m     \u001b[0;32masync\u001b[0m \u001b[0;32mdef\u001b[0m \u001b[0mrecv_initial_metadata\u001b[0m\u001b[0;34m(\u001b[0m\u001b[0mself\u001b[0m\u001b[0;34m)\u001b[0m \u001b[0;34m->\u001b[0m \u001b[0;32mNone\u001b[0m\u001b[0;34m:\u001b[0m\u001b[0;34m\u001b[0m\u001b[0;34m\u001b[0m\u001b[0m\n",
            "\u001b[0;31mGRPCError\u001b[0m: (<Status.INTERNAL: 13>, 'failed getting es index id. err: elastic index (c2577pa23akg00er4tj0-es) was not found. err record not found', None)"
          ]
        }
      ]
    },
    {
      "cell_type": "markdown",
      "metadata": {
        "id": "7-48rwTLaPG5"
      },
      "source": [
        "---"
      ]
    },
    {
      "cell_type": "markdown",
      "metadata": {
        "id": "D11xuTLjaM_L"
      },
      "source": [
        "### Venue Visit Length\n",
        "\n",
        "Distribution of visit length for a specific venue in minutes."
      ]
    },
    {
      "cell_type": "code",
      "metadata": {
        "id": "C18Y2UEbadU4"
      },
      "source": [
        "venue_layer = rwg.layer(\"unacast_poi_202102\")"
      ],
      "execution_count": null,
      "outputs": []
    },
    {
      "cell_type": "code",
      "metadata": {
        "id": "-XgXVJl-ad0j"
      },
      "source": [
        "# main values\n",
        "visit_length_p50 = ValueSpec(name=\"visit_length_p50\", \n",
        "                             unit=\"Minutes\", \n",
        "                             value_kind=ValueKind.NUMBER, \n",
        "                             display_name=\"Median Visit Length (Min)\", \n",
        "                             description=\"Estimated average length (median) of time spent visiting the venue per person in minutes.\"\n",
        "                            )"
      ],
      "execution_count": null,
      "outputs": []
    },
    {
      "cell_type": "code",
      "metadata": {
        "id": "DmO-ZvxRbb90"
      },
      "source": [
        "# supporting values\n",
        "visit_length_p25 = ValueSpec(name=\"visit_length_p25\", \n",
        "                             unit=\"Minutes\", \n",
        "                             value_kind=ValueKind.NUMBER, \n",
        "                             display_name=\"25th Percentile of Visit Length (Min)\", \n",
        "                             description=\"25th percentile of estimated time spent visiting the venue per person in minutes.\"\n",
        "                            )\n",
        "\n",
        "visit_length_p75 = ValueSpec(name=\"visit_length_p75\", \n",
        "                             unit=\"Minutes\", \n",
        "                             value_kind=ValueKind.NUMBER, \n",
        "                             display_name=\"75th Percentile of Visit Length (Min)\", \n",
        "                             description=\"75th percentile of estimated time spent visiting the venue per person in minutes.\"\n",
        "                            )"
      ],
      "execution_count": null,
      "outputs": []
    },
    {
      "cell_type": "code",
      "metadata": {
        "id": "81qQj-FRcJLg",
        "colab": {
          "base_uri": "https://localhost:8080/",
          "height": 358
        },
        "outputId": "b6306973-d0cd-4f5a-f4d1-32e40c1179ed"
      },
      "source": [
        "venue_visit_length = rwg.build_metric(\"rwg_venue_visit_length_quarter_202103\") \\\n",
        "                               .with_layer(venue_layer) \\\n",
        "                               .with_value(visit_length_p50) \\\n",
        "                               .with_supporting_value(visit_length_p25) \\\n",
        "                               .with_supporting_value(visit_length_p75) \\\n",
        "                               .with_cadence(Cadence.QUARTERLY) \\\n",
        "                               .with_display_name(\"Median Venue Visit Length\") \\\n",
        "                               .with_description(\"The estimated average length of time spent visiting the venue per person.\") \\\n",
        "                               .create() "
      ],
      "execution_count": null,
      "outputs": [
        {
          "output_type": "error",
          "ename": "GRPCError",
          "evalue": "ignored",
          "traceback": [
            "\u001b[0;31m---------------------------------------------------------------------------\u001b[0m",
            "\u001b[0;31mGRPCError\u001b[0m                                 Traceback (most recent call last)",
            "\u001b[0;32m<ipython-input-22-f995ef99f9fa>\u001b[0m in \u001b[0;36m<module>\u001b[0;34m()\u001b[0m\n\u001b[0;32m----> 1\u001b[0;31m \u001b[0mvenue_visit_length\u001b[0m \u001b[0;34m=\u001b[0m \u001b[0mrwg\u001b[0m\u001b[0;34m.\u001b[0m\u001b[0mbuild_metric\u001b[0m\u001b[0;34m(\u001b[0m\u001b[0;34m\"rwg_venue_visit_length_quarter_202103\"\u001b[0m\u001b[0;34m)\u001b[0m                                \u001b[0;34m.\u001b[0m\u001b[0mwith_layer\u001b[0m\u001b[0;34m(\u001b[0m\u001b[0mvenue_layer\u001b[0m\u001b[0;34m)\u001b[0m                                \u001b[0;34m.\u001b[0m\u001b[0mwith_value\u001b[0m\u001b[0;34m(\u001b[0m\u001b[0mvisit_length_p50\u001b[0m\u001b[0;34m)\u001b[0m                                \u001b[0;34m.\u001b[0m\u001b[0mwith_supporting_value\u001b[0m\u001b[0;34m(\u001b[0m\u001b[0mvisit_length_p25\u001b[0m\u001b[0;34m)\u001b[0m                                \u001b[0;34m.\u001b[0m\u001b[0mwith_supporting_value\u001b[0m\u001b[0;34m(\u001b[0m\u001b[0mvisit_length_p75\u001b[0m\u001b[0;34m)\u001b[0m                                \u001b[0;34m.\u001b[0m\u001b[0mwith_cadence\u001b[0m\u001b[0;34m(\u001b[0m\u001b[0mCadence\u001b[0m\u001b[0;34m.\u001b[0m\u001b[0mQUARTERLY\u001b[0m\u001b[0;34m)\u001b[0m                                \u001b[0;34m.\u001b[0m\u001b[0mwith_display_name\u001b[0m\u001b[0;34m(\u001b[0m\u001b[0;34m\"Median Venue Visit Length\"\u001b[0m\u001b[0;34m)\u001b[0m                                \u001b[0;34m.\u001b[0m\u001b[0mwith_description\u001b[0m\u001b[0;34m(\u001b[0m\u001b[0;34m\"The estimated average length of time spent visiting the venue per person.\"\u001b[0m\u001b[0;34m)\u001b[0m                                \u001b[0;34m.\u001b[0m\u001b[0mcreate\u001b[0m\u001b[0;34m(\u001b[0m\u001b[0;34m)\u001b[0m\u001b[0;34m\u001b[0m\u001b[0;34m\u001b[0m\u001b[0m\n\u001b[0m",
            "\u001b[0;32m/usr/local/lib/python3.7/dist-packages/unacatlib/metric_builder.py\u001b[0m in \u001b[0;36mcreate\u001b[0;34m(self)\u001b[0m\n\u001b[1;32m     78\u001b[0m                 \u001b[0mdimensions\u001b[0m\u001b[0;34m=\u001b[0m\u001b[0mself\u001b[0m\u001b[0;34m.\u001b[0m\u001b[0m_dimensions\u001b[0m\u001b[0;34m,\u001b[0m\u001b[0;34m\u001b[0m\u001b[0;34m\u001b[0m\u001b[0m\n\u001b[1;32m     79\u001b[0m                 \u001b[0mvalues\u001b[0m\u001b[0;34m=\u001b[0m\u001b[0mvalues\u001b[0m\u001b[0;34m,\u001b[0m\u001b[0;34m\u001b[0m\u001b[0;34m\u001b[0m\u001b[0m\n\u001b[0;32m---> 80\u001b[0;31m                 \u001b[0mcadence\u001b[0m\u001b[0;34m=\u001b[0m\u001b[0mself\u001b[0m\u001b[0;34m.\u001b[0m\u001b[0m_cadence\u001b[0m\u001b[0;34m\u001b[0m\u001b[0;34m\u001b[0m\u001b[0m\n\u001b[0m\u001b[1;32m     81\u001b[0m               )\n\u001b[1;32m     82\u001b[0m             )\n",
            "\u001b[0;32m/usr/lib/python3.7/functools.py\u001b[0m in \u001b[0;36mwrapper\u001b[0;34m(*args, **kw)\u001b[0m\n\u001b[1;32m    838\u001b[0m                             '1 positional argument')\n\u001b[1;32m    839\u001b[0m \u001b[0;34m\u001b[0m\u001b[0m\n\u001b[0;32m--> 840\u001b[0;31m         \u001b[0;32mreturn\u001b[0m \u001b[0mdispatch\u001b[0m\u001b[0;34m(\u001b[0m\u001b[0margs\u001b[0m\u001b[0;34m[\u001b[0m\u001b[0;36m0\u001b[0m\u001b[0;34m]\u001b[0m\u001b[0;34m.\u001b[0m\u001b[0m__class__\u001b[0m\u001b[0;34m)\u001b[0m\u001b[0;34m(\u001b[0m\u001b[0;34m*\u001b[0m\u001b[0margs\u001b[0m\u001b[0;34m,\u001b[0m \u001b[0;34m**\u001b[0m\u001b[0mkw\u001b[0m\u001b[0;34m)\u001b[0m\u001b[0;34m\u001b[0m\u001b[0;34m\u001b[0m\u001b[0m\n\u001b[0m\u001b[1;32m    841\u001b[0m \u001b[0;34m\u001b[0m\u001b[0m\n\u001b[1;32m    842\u001b[0m     \u001b[0mfuncname\u001b[0m \u001b[0;34m=\u001b[0m \u001b[0mgetattr\u001b[0m\u001b[0;34m(\u001b[0m\u001b[0mfunc\u001b[0m\u001b[0;34m,\u001b[0m \u001b[0;34m'__name__'\u001b[0m\u001b[0;34m,\u001b[0m \u001b[0;34m'singledispatch function'\u001b[0m\u001b[0;34m)\u001b[0m\u001b[0;34m\u001b[0m\u001b[0;34m\u001b[0m\u001b[0m\n",
            "\u001b[0;32m/usr/local/lib/python3.7/dist-packages/syncer.py\u001b[0m in \u001b[0;36msync_co\u001b[0;34m(co)\u001b[0m\n\u001b[1;32m     31\u001b[0m     \u001b[0;32mif\u001b[0m \u001b[0;32mnot\u001b[0m \u001b[0m_is_awaitable\u001b[0m\u001b[0;34m(\u001b[0m\u001b[0mco\u001b[0m\u001b[0;34m)\u001b[0m\u001b[0;34m:\u001b[0m\u001b[0;34m\u001b[0m\u001b[0;34m\u001b[0m\u001b[0m\n\u001b[1;32m     32\u001b[0m         \u001b[0;32mraise\u001b[0m \u001b[0mTypeError\u001b[0m\u001b[0;34m(\u001b[0m\u001b[0;34m'Called with unsupported argument: {}'\u001b[0m\u001b[0;34m.\u001b[0m\u001b[0mformat\u001b[0m\u001b[0;34m(\u001b[0m\u001b[0mco\u001b[0m\u001b[0;34m)\u001b[0m\u001b[0;34m)\u001b[0m\u001b[0;34m\u001b[0m\u001b[0;34m\u001b[0m\u001b[0m\n\u001b[0;32m---> 33\u001b[0;31m     \u001b[0;32mreturn\u001b[0m \u001b[0masyncio\u001b[0m\u001b[0;34m.\u001b[0m\u001b[0mget_event_loop\u001b[0m\u001b[0;34m(\u001b[0m\u001b[0;34m)\u001b[0m\u001b[0;34m.\u001b[0m\u001b[0mrun_until_complete\u001b[0m\u001b[0;34m(\u001b[0m\u001b[0mco\u001b[0m\u001b[0;34m)\u001b[0m\u001b[0;34m\u001b[0m\u001b[0;34m\u001b[0m\u001b[0m\n\u001b[0m\u001b[1;32m     34\u001b[0m \u001b[0;34m\u001b[0m\u001b[0m\n\u001b[1;32m     35\u001b[0m \u001b[0;34m\u001b[0m\u001b[0m\n",
            "\u001b[0;32m/usr/local/lib/python3.7/dist-packages/nest_asyncio.py\u001b[0m in \u001b[0;36mrun_until_complete\u001b[0;34m(self, future)\u001b[0m\n\u001b[1;32m     96\u001b[0m                 raise RuntimeError(\n\u001b[1;32m     97\u001b[0m                     'Event loop stopped before Future completed.')\n\u001b[0;32m---> 98\u001b[0;31m             \u001b[0;32mreturn\u001b[0m \u001b[0mf\u001b[0m\u001b[0;34m.\u001b[0m\u001b[0mresult\u001b[0m\u001b[0;34m(\u001b[0m\u001b[0;34m)\u001b[0m\u001b[0;34m\u001b[0m\u001b[0;34m\u001b[0m\u001b[0m\n\u001b[0m\u001b[1;32m     99\u001b[0m         \u001b[0;32mfinally\u001b[0m\u001b[0;34m:\u001b[0m\u001b[0;34m\u001b[0m\u001b[0;34m\u001b[0m\u001b[0m\n\u001b[1;32m    100\u001b[0m             \u001b[0mself\u001b[0m\u001b[0;34m.\u001b[0m\u001b[0m_thread_id\u001b[0m \u001b[0;34m=\u001b[0m \u001b[0mold_thread_id\u001b[0m\u001b[0;34m\u001b[0m\u001b[0;34m\u001b[0m\u001b[0m\n",
            "\u001b[0;32m/usr/lib/python3.7/asyncio/futures.py\u001b[0m in \u001b[0;36mresult\u001b[0;34m(self)\u001b[0m\n\u001b[1;32m    179\u001b[0m         \u001b[0mself\u001b[0m\u001b[0;34m.\u001b[0m\u001b[0m__log_traceback\u001b[0m \u001b[0;34m=\u001b[0m \u001b[0;32mFalse\u001b[0m\u001b[0;34m\u001b[0m\u001b[0;34m\u001b[0m\u001b[0m\n\u001b[1;32m    180\u001b[0m         \u001b[0;32mif\u001b[0m \u001b[0mself\u001b[0m\u001b[0;34m.\u001b[0m\u001b[0m_exception\u001b[0m \u001b[0;32mis\u001b[0m \u001b[0;32mnot\u001b[0m \u001b[0;32mNone\u001b[0m\u001b[0;34m:\u001b[0m\u001b[0;34m\u001b[0m\u001b[0;34m\u001b[0m\u001b[0m\n\u001b[0;32m--> 181\u001b[0;31m             \u001b[0;32mraise\u001b[0m \u001b[0mself\u001b[0m\u001b[0;34m.\u001b[0m\u001b[0m_exception\u001b[0m\u001b[0;34m\u001b[0m\u001b[0;34m\u001b[0m\u001b[0m\n\u001b[0m\u001b[1;32m    182\u001b[0m         \u001b[0;32mreturn\u001b[0m \u001b[0mself\u001b[0m\u001b[0;34m.\u001b[0m\u001b[0m_result\u001b[0m\u001b[0;34m\u001b[0m\u001b[0;34m\u001b[0m\u001b[0m\n\u001b[1;32m    183\u001b[0m \u001b[0;34m\u001b[0m\u001b[0m\n",
            "\u001b[0;32m/usr/lib/python3.7/asyncio/tasks.py\u001b[0m in \u001b[0;36m__step\u001b[0;34m(***failed resolving arguments***)\u001b[0m\n\u001b[1;32m    247\u001b[0m                 \u001b[0;31m# We use the `send` method directly, because coroutines\u001b[0m\u001b[0;34m\u001b[0m\u001b[0;34m\u001b[0m\u001b[0;34m\u001b[0m\u001b[0m\n\u001b[1;32m    248\u001b[0m                 \u001b[0;31m# don't have `__iter__` and `__next__` methods.\u001b[0m\u001b[0;34m\u001b[0m\u001b[0;34m\u001b[0m\u001b[0;34m\u001b[0m\u001b[0m\n\u001b[0;32m--> 249\u001b[0;31m                 \u001b[0mresult\u001b[0m \u001b[0;34m=\u001b[0m \u001b[0mcoro\u001b[0m\u001b[0;34m.\u001b[0m\u001b[0msend\u001b[0m\u001b[0;34m(\u001b[0m\u001b[0;32mNone\u001b[0m\u001b[0;34m)\u001b[0m\u001b[0;34m\u001b[0m\u001b[0;34m\u001b[0m\u001b[0m\n\u001b[0m\u001b[1;32m    250\u001b[0m             \u001b[0;32melse\u001b[0m\u001b[0;34m:\u001b[0m\u001b[0;34m\u001b[0m\u001b[0;34m\u001b[0m\u001b[0m\n\u001b[1;32m    251\u001b[0m                 \u001b[0mresult\u001b[0m \u001b[0;34m=\u001b[0m \u001b[0mcoro\u001b[0m\u001b[0;34m.\u001b[0m\u001b[0mthrow\u001b[0m\u001b[0;34m(\u001b[0m\u001b[0mexc\u001b[0m\u001b[0;34m)\u001b[0m\u001b[0;34m\u001b[0m\u001b[0;34m\u001b[0m\u001b[0m\n",
            "\u001b[0;32m/usr/local/lib/python3.7/dist-packages/unacatlib/unacast/operator/v1/__init__.py\u001b[0m in \u001b[0;36mcreate_metric\u001b[0;34m(self, given_id, name, spec, catalog_id, description)\u001b[0m\n\u001b[1;32m    580\u001b[0m             \u001b[0;34m\"/unacast.operator.v1.MetricOperatorService/CreateMetric\"\u001b[0m\u001b[0;34m,\u001b[0m\u001b[0;34m\u001b[0m\u001b[0;34m\u001b[0m\u001b[0m\n\u001b[1;32m    581\u001b[0m             \u001b[0mrequest\u001b[0m\u001b[0;34m,\u001b[0m\u001b[0;34m\u001b[0m\u001b[0;34m\u001b[0m\u001b[0m\n\u001b[0;32m--> 582\u001b[0;31m             \u001b[0m__metric_v1__\u001b[0m\u001b[0;34m.\u001b[0m\u001b[0mMetric\u001b[0m\u001b[0;34m,\u001b[0m\u001b[0;34m\u001b[0m\u001b[0;34m\u001b[0m\u001b[0m\n\u001b[0m\u001b[1;32m    583\u001b[0m         )\n\u001b[1;32m    584\u001b[0m \u001b[0;34m\u001b[0m\u001b[0m\n",
            "\u001b[0;32m/usr/local/lib/python3.7/dist-packages/betterproto/grpc/grpclib_client.py\u001b[0m in \u001b[0;36m_unary_unary\u001b[0;34m(self, route, request, response_type, timeout, deadline, metadata)\u001b[0m\n\u001b[1;32m     78\u001b[0m         ) as stream:\n\u001b[1;32m     79\u001b[0m             \u001b[0;32mawait\u001b[0m \u001b[0mstream\u001b[0m\u001b[0;34m.\u001b[0m\u001b[0msend_message\u001b[0m\u001b[0;34m(\u001b[0m\u001b[0mrequest\u001b[0m\u001b[0;34m,\u001b[0m \u001b[0mend\u001b[0m\u001b[0;34m=\u001b[0m\u001b[0;32mTrue\u001b[0m\u001b[0;34m)\u001b[0m\u001b[0;34m\u001b[0m\u001b[0;34m\u001b[0m\u001b[0m\n\u001b[0;32m---> 80\u001b[0;31m             \u001b[0mresponse\u001b[0m \u001b[0;34m=\u001b[0m \u001b[0;32mawait\u001b[0m \u001b[0mstream\u001b[0m\u001b[0;34m.\u001b[0m\u001b[0mrecv_message\u001b[0m\u001b[0;34m(\u001b[0m\u001b[0;34m)\u001b[0m\u001b[0;34m\u001b[0m\u001b[0;34m\u001b[0m\u001b[0m\n\u001b[0m\u001b[1;32m     81\u001b[0m         \u001b[0;32massert\u001b[0m \u001b[0mresponse\u001b[0m \u001b[0;32mis\u001b[0m \u001b[0;32mnot\u001b[0m \u001b[0;32mNone\u001b[0m\u001b[0;34m\u001b[0m\u001b[0;34m\u001b[0m\u001b[0m\n\u001b[1;32m     82\u001b[0m         \u001b[0;32mreturn\u001b[0m \u001b[0mresponse\u001b[0m\u001b[0;34m\u001b[0m\u001b[0;34m\u001b[0m\u001b[0m\n",
            "\u001b[0;32m/usr/local/lib/python3.7/dist-packages/grpclib/client.py\u001b[0m in \u001b[0;36m__aexit__\u001b[0;34m(self, exc_type, exc_val, exc_tb)\u001b[0m\n\u001b[1;32m    529\u001b[0m             \u001b[0;32mif\u001b[0m \u001b[0mreraise\u001b[0m\u001b[0;34m:\u001b[0m\u001b[0;34m\u001b[0m\u001b[0;34m\u001b[0m\u001b[0m\n\u001b[1;32m    530\u001b[0m                 \u001b[0;32massert\u001b[0m \u001b[0mexc_val\u001b[0m \u001b[0;32mis\u001b[0m \u001b[0;32mnot\u001b[0m \u001b[0;32mNone\u001b[0m\u001b[0;34m\u001b[0m\u001b[0;34m\u001b[0m\u001b[0m\n\u001b[0;32m--> 531\u001b[0;31m                 \u001b[0;32mraise\u001b[0m \u001b[0mexc_val\u001b[0m\u001b[0;34m\u001b[0m\u001b[0;34m\u001b[0m\u001b[0m\n\u001b[0m\u001b[1;32m    532\u001b[0m         \u001b[0;32mfinally\u001b[0m\u001b[0;34m:\u001b[0m\u001b[0;34m\u001b[0m\u001b[0;34m\u001b[0m\u001b[0m\n\u001b[1;32m    533\u001b[0m             \u001b[0;32mif\u001b[0m \u001b[0mself\u001b[0m\u001b[0;34m.\u001b[0m\u001b[0m_stream\u001b[0m\u001b[0;34m.\u001b[0m\u001b[0mclosable\u001b[0m\u001b[0;34m:\u001b[0m\u001b[0;34m\u001b[0m\u001b[0;34m\u001b[0m\u001b[0m\n",
            "\u001b[0;32m/usr/local/lib/python3.7/dist-packages/grpclib/client.py\u001b[0m in \u001b[0;36m__aexit__\u001b[0;34m(self, exc_type, exc_val, exc_tb)\u001b[0m\n\u001b[1;32m    519\u001b[0m             \u001b[0;32mif\u001b[0m \u001b[0mexc_val\u001b[0m \u001b[0;32mis\u001b[0m \u001b[0;32mNone\u001b[0m\u001b[0;34m:\u001b[0m\u001b[0;34m\u001b[0m\u001b[0;34m\u001b[0m\u001b[0m\n\u001b[1;32m    520\u001b[0m                 \u001b[0;32mtry\u001b[0m\u001b[0;34m:\u001b[0m\u001b[0;34m\u001b[0m\u001b[0;34m\u001b[0m\u001b[0m\n\u001b[0;32m--> 521\u001b[0;31m                     \u001b[0;32mawait\u001b[0m \u001b[0mself\u001b[0m\u001b[0;34m.\u001b[0m\u001b[0m_maybe_finish\u001b[0m\u001b[0;34m(\u001b[0m\u001b[0;34m)\u001b[0m\u001b[0;34m\u001b[0m\u001b[0;34m\u001b[0m\u001b[0m\n\u001b[0m\u001b[1;32m    522\u001b[0m                 \u001b[0;32mexcept\u001b[0m \u001b[0mException\u001b[0m\u001b[0;34m:\u001b[0m\u001b[0;34m\u001b[0m\u001b[0;34m\u001b[0m\u001b[0m\n\u001b[1;32m    523\u001b[0m                     \u001b[0mexc_type\u001b[0m\u001b[0;34m,\u001b[0m \u001b[0mexc_val\u001b[0m\u001b[0;34m,\u001b[0m \u001b[0mexc_tb\u001b[0m \u001b[0;34m=\u001b[0m \u001b[0msys\u001b[0m\u001b[0;34m.\u001b[0m\u001b[0mexc_info\u001b[0m\u001b[0;34m(\u001b[0m\u001b[0;34m)\u001b[0m\u001b[0;34m\u001b[0m\u001b[0;34m\u001b[0m\u001b[0m\n",
            "\u001b[0;32m/usr/local/lib/python3.7/dist-packages/grpclib/client.py\u001b[0m in \u001b[0;36m_maybe_finish\u001b[0;34m(self)\u001b[0m\n\u001b[1;32m    495\u001b[0m                 \u001b[0;32mawait\u001b[0m \u001b[0mself\u001b[0m\u001b[0;34m.\u001b[0m\u001b[0mrecv_initial_metadata\u001b[0m\u001b[0;34m(\u001b[0m\u001b[0;34m)\u001b[0m\u001b[0;34m\u001b[0m\u001b[0;34m\u001b[0m\u001b[0m\n\u001b[1;32m    496\u001b[0m             \u001b[0;32mif\u001b[0m \u001b[0;32mnot\u001b[0m \u001b[0mself\u001b[0m\u001b[0;34m.\u001b[0m\u001b[0m_recv_trailing_metadata_done\u001b[0m\u001b[0;34m:\u001b[0m\u001b[0;34m\u001b[0m\u001b[0;34m\u001b[0m\u001b[0m\n\u001b[0;32m--> 497\u001b[0;31m                 \u001b[0;32mawait\u001b[0m \u001b[0mself\u001b[0m\u001b[0;34m.\u001b[0m\u001b[0mrecv_trailing_metadata\u001b[0m\u001b[0;34m(\u001b[0m\u001b[0;34m)\u001b[0m\u001b[0;34m\u001b[0m\u001b[0;34m\u001b[0m\u001b[0m\n\u001b[0m\u001b[1;32m    498\u001b[0m \u001b[0;34m\u001b[0m\u001b[0m\n\u001b[1;32m    499\u001b[0m     \u001b[0;32mdef\u001b[0m \u001b[0m_maybe_raise\u001b[0m\u001b[0;34m(\u001b[0m\u001b[0mself\u001b[0m\u001b[0;34m)\u001b[0m \u001b[0;34m->\u001b[0m \u001b[0;32mNone\u001b[0m\u001b[0;34m:\u001b[0m\u001b[0;34m\u001b[0m\u001b[0;34m\u001b[0m\u001b[0m\n",
            "\u001b[0;32m/usr/local/lib/python3.7/dist-packages/grpclib/client.py\u001b[0m in \u001b[0;36mrecv_trailing_metadata\u001b[0;34m(self)\u001b[0m\n\u001b[1;32m    456\u001b[0m                 \u001b[0mself\u001b[0m\u001b[0;34m.\u001b[0m\u001b[0mtrailing_metadata\u001b[0m \u001b[0;34m=\u001b[0m \u001b[0mtm\u001b[0m\u001b[0;34m\u001b[0m\u001b[0;34m\u001b[0m\u001b[0m\n\u001b[1;32m    457\u001b[0m \u001b[0;34m\u001b[0m\u001b[0m\n\u001b[0;32m--> 458\u001b[0;31m                 \u001b[0mself\u001b[0m\u001b[0;34m.\u001b[0m\u001b[0m_raise_for_grpc_status\u001b[0m\u001b[0;34m(\u001b[0m\u001b[0mdict\u001b[0m\u001b[0;34m(\u001b[0m\u001b[0mtrailers\u001b[0m\u001b[0;34m)\u001b[0m\u001b[0;34m)\u001b[0m\u001b[0;34m\u001b[0m\u001b[0;34m\u001b[0m\u001b[0m\n\u001b[0m\u001b[1;32m    459\u001b[0m \u001b[0;34m\u001b[0m\u001b[0m\n\u001b[1;32m    460\u001b[0m     \u001b[0;32masync\u001b[0m \u001b[0;32mdef\u001b[0m \u001b[0mcancel\u001b[0m\u001b[0;34m(\u001b[0m\u001b[0mself\u001b[0m\u001b[0;34m)\u001b[0m \u001b[0;34m->\u001b[0m \u001b[0;32mNone\u001b[0m\u001b[0;34m:\u001b[0m\u001b[0;34m\u001b[0m\u001b[0;34m\u001b[0m\u001b[0m\n",
            "\u001b[0;32m/usr/local/lib/python3.7/dist-packages/grpclib/client.py\u001b[0m in \u001b[0;36m_raise_for_grpc_status\u001b[0;34m(self, headers_map)\u001b[0m\n\u001b[1;32m    335\u001b[0m                             \u001b[0mdecode_bin_value\u001b[0m\u001b[0;34m(\u001b[0m\u001b[0mdetails_bin\u001b[0m\u001b[0;34m.\u001b[0m\u001b[0mencode\u001b[0m\u001b[0;34m(\u001b[0m\u001b[0;34m'ascii'\u001b[0m\u001b[0;34m)\u001b[0m\u001b[0;34m)\u001b[0m\u001b[0;34m\u001b[0m\u001b[0;34m\u001b[0m\u001b[0m\n\u001b[1;32m    336\u001b[0m                         )\n\u001b[0;32m--> 337\u001b[0;31m                 \u001b[0;32mraise\u001b[0m \u001b[0mGRPCError\u001b[0m\u001b[0;34m(\u001b[0m\u001b[0mstatus\u001b[0m\u001b[0;34m,\u001b[0m \u001b[0mmessage\u001b[0m\u001b[0;34m,\u001b[0m \u001b[0mdetails\u001b[0m\u001b[0;34m)\u001b[0m\u001b[0;34m\u001b[0m\u001b[0;34m\u001b[0m\u001b[0m\n\u001b[0m\u001b[1;32m    338\u001b[0m \u001b[0;34m\u001b[0m\u001b[0m\n\u001b[1;32m    339\u001b[0m     \u001b[0;32masync\u001b[0m \u001b[0;32mdef\u001b[0m \u001b[0mrecv_initial_metadata\u001b[0m\u001b[0;34m(\u001b[0m\u001b[0mself\u001b[0m\u001b[0;34m)\u001b[0m \u001b[0;34m->\u001b[0m \u001b[0;32mNone\u001b[0m\u001b[0;34m:\u001b[0m\u001b[0;34m\u001b[0m\u001b[0;34m\u001b[0m\u001b[0m\n",
            "\u001b[0;31mGRPCError\u001b[0m: (<Status.INTERNAL: 13>, 'pq: duplicate key value violates unique constraint \"metrics_pkey\"', None)"
          ]
        }
      ]
    },
    {
      "cell_type": "code",
      "metadata": {
        "colab": {
          "base_uri": "https://localhost:8080/",
          "height": 49
        },
        "id": "OD6sU_Oqby_H",
        "outputId": "b5b4d2b6-3499-4d1b-9151-1139f09bff16"
      },
      "source": [
        "%%bigquery\n",
        "\n",
        "  DECLARE START_DATE DATE DEFAULT \"2018-10-01\";\n",
        "\n",
        "  CREATE OR REPLACE TABLE `uc-unacat.inbox.rwg_venue_visit_length_quarter_202103` AS (\n",
        "    SELECT\n",
        "      venue_id as feature_id,\n",
        "      observation_start_date as observation_start,\n",
        "      observation_end_date as observation_end,\n",
        "      COALESCE(visit_length_p50, 0) as value_visit_length_p50,\n",
        "      COALESCE(visit_length_p25, 0) as value_visit_length_p25,\n",
        "      COALESCE(visit_length_p75, 0) as value_visit_length_p75\n",
        "    FROM `uc-catalog.venue_package_202103_4d_lag.venue_visit_length`\n",
        "    WHERE observation_start_date >= START_DATE\n",
        "      #AND venue_id NOT IN (\"84ba1736-181c-4be4-86cb-a1a514b4371e\", \"f8f3387d-72fc-490f-ac67-10fe7a2a2b2f\", \"70a6a8ed-855a-40ee-81d5-cd0d149e9bc5\", \"6075d9cc-9bed-448c-8895-87b9535c503c\")\n",
        "  )"
      ],
      "execution_count": null,
      "outputs": [
        {
          "output_type": "stream",
          "text": [
            "Query successful. Cost $0.01\n"
          ],
          "name": "stdout"
        },
        {
          "output_type": "execute_result",
          "data": {
            "text/html": [
              "<div>\n",
              "<style scoped>\n",
              "    .dataframe tbody tr th:only-of-type {\n",
              "        vertical-align: middle;\n",
              "    }\n",
              "\n",
              "    .dataframe tbody tr th {\n",
              "        vertical-align: top;\n",
              "    }\n",
              "\n",
              "    .dataframe thead th {\n",
              "        text-align: right;\n",
              "    }\n",
              "</style>\n",
              "<table border=\"1\" class=\"dataframe\">\n",
              "  <thead>\n",
              "    <tr style=\"text-align: right;\">\n",
              "      <th></th>\n",
              "    </tr>\n",
              "  </thead>\n",
              "  <tbody>\n",
              "  </tbody>\n",
              "</table>\n",
              "</div>"
            ],
            "text/plain": [
              "Empty DataFrame\n",
              "Columns: []\n",
              "Index: []"
            ]
          },
          "metadata": {
            "tags": []
          },
          "execution_count": 20
        }
      ]
    },
    {
      "cell_type": "code",
      "metadata": {
        "colab": {
          "base_uri": "https://localhost:8080/",
          "height": 97
        },
        "id": "vz7-qAw3-3ow",
        "outputId": "d4fc4694-aadb-4121-d528-47e4f6e4c2a2"
      },
      "source": [
        "%%bigquery\n",
        "\n",
        "  select min(observation_start) as min_start, max(observation_end) as max_end from  `uc-unacat.inbox.rwg_venue_visit_length_quarter_202103`"
      ],
      "execution_count": null,
      "outputs": [
        {
          "output_type": "stream",
          "text": [
            "Query successful. Cost $0.00\n"
          ],
          "name": "stdout"
        },
        {
          "output_type": "execute_result",
          "data": {
            "text/html": [
              "<div>\n",
              "<style scoped>\n",
              "    .dataframe tbody tr th:only-of-type {\n",
              "        vertical-align: middle;\n",
              "    }\n",
              "\n",
              "    .dataframe tbody tr th {\n",
              "        vertical-align: top;\n",
              "    }\n",
              "\n",
              "    .dataframe thead th {\n",
              "        text-align: right;\n",
              "    }\n",
              "</style>\n",
              "<table border=\"1\" class=\"dataframe\">\n",
              "  <thead>\n",
              "    <tr style=\"text-align: right;\">\n",
              "      <th></th>\n",
              "      <th>min_start</th>\n",
              "      <th>max_end</th>\n",
              "    </tr>\n",
              "  </thead>\n",
              "  <tbody>\n",
              "    <tr>\n",
              "      <th>0</th>\n",
              "      <td>2018-10-01</td>\n",
              "      <td>2021-03-31</td>\n",
              "    </tr>\n",
              "  </tbody>\n",
              "</table>\n",
              "</div>"
            ],
            "text/plain": [
              "    min_start     max_end\n",
              "0  2018-10-01  2021-03-31"
            ]
          },
          "metadata": {
            "tags": []
          },
          "execution_count": 27
        }
      ]
    },
    {
      "cell_type": "code",
      "metadata": {
        "id": "vOlTZ0pbdQyL"
      },
      "source": [
        "import datetime\n",
        "venue_visit_length = rwg.metric(\"rwg_venue_visit_length_quarter_202103\")\n",
        "index_job = venue_visit_length.index(\n",
        "    big_query_table_id=\"rwg_venue_visit_length_quarter_202103\",\n",
        "    start_date=datetime.date(2018,10,1),\n",
        "    end_date=datetime.date(2020,12,31),\n",
        "    change_set=False\n",
        ")"
      ],
      "execution_count": null,
      "outputs": []
    },
    {
      "cell_type": "code",
      "metadata": {
        "id": "sNDKblvo33lF"
      },
      "source": [
        ""
      ],
      "execution_count": null,
      "outputs": []
    },
    {
      "cell_type": "code",
      "metadata": {
        "id": "75liRWcTdXxj",
        "colab": {
          "base_uri": "https://localhost:8080/"
        },
        "outputId": "38c2a9f7-367f-4e88-ba12-ac20630994eb"
      },
      "source": [
        "rwg.metric(\"rwg_venue_visit_length_quarter_202103\").report()"
      ],
      "execution_count": null,
      "outputs": [
        {
          "output_type": "execute_result",
          "data": {
            "text/plain": [
              "MetricReport(observation_period=Period(start=Date(year=2018, month=10, day=1), end=Date(year=2020, month=12, day=31)), total_size=2656627)"
            ]
          },
          "metadata": {
            "tags": []
          },
          "execution_count": 28
        }
      ]
    },
    {
      "cell_type": "markdown",
      "metadata": {
        "id": "2eeDsSl6aQCR"
      },
      "source": [
        "---"
      ]
    },
    {
      "cell_type": "markdown",
      "metadata": {
        "id": "RvrWbyoXejDJ"
      },
      "source": [
        "## Analysis / Tests"
      ]
    },
    {
      "cell_type": "code",
      "metadata": {
        "id": "pKzh3PyB8FZx"
      },
      "source": [
        ""
      ],
      "execution_count": null,
      "outputs": []
    }
  ]
}